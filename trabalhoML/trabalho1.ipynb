{
  "nbformat": 4,
  "nbformat_minor": 0,
  "metadata": {
    "colab": {
      "provenance": []
    },
    "kernelspec": {
      "name": "python3",
      "display_name": "Python 3"
    },
    "language_info": {
      "name": "python"
    }
  },
  "cells": [
    {
      "cell_type": "markdown",
      "source": [
        "**Descrição**\n",
        "\n",
        "Dataset: Classificação binária com um conjunto de dados de fraude de cartão de crédito\n",
        "\n",
        "Link: https://www.kaggle.com/competitions/playground-series-s3e4/data?select=train.csv\n",
        "\n",
        "O dataset apresenta um conjunto de transações bancárias ocorridas durante 2 dias. \n",
        "Dessas transações, ocorreram 469 fraudes em quase 219129 transações. Aqui o principal \n",
        "problema é lidar com o desbalanceamento do dataset. O problema é classificado\n",
        "como classificação binária.\n",
        "\n",
        "O dataset apresenta 30 colunas de features, 28 são características das transações \n",
        "transformadas por PCA (devido a dados confidenciais, os dados originais, utilizados \n",
        "na transformação, não foram fornecidos), as outras duas colunas são, respectivamente, \n",
        "o tempo decorrido entre cada transação e o valor da transação. Como saída, \n",
        "se espera uma classificação binária das transações, 1 para fraude e 0 caso não \n",
        "tenha sido fraude.\n"
      ],
      "metadata": {
        "id": "Xf0kPRRFiCRX"
      }
    },
    {
      "cell_type": "markdown",
      "source": [
        "**Import**\n",
        "\n",
        "Importação de bibliotecas e pacotes utilizados."
      ],
      "metadata": {
        "id": "KoP9JODFg9Mk"
      }
    },
    {
      "cell_type": "code",
      "execution_count": 193,
      "metadata": {
        "id": "co33me7I0QIB"
      },
      "outputs": [],
      "source": [
        "import pandas as pd\n",
        "from imblearn.over_sampling import SMOTE\n",
        "from imblearn.over_sampling import RandomOverSampler\n",
        "from imblearn.under_sampling import RandomUnderSampler\n",
        "from sklearn.preprocessing import MinMaxScaler, LabelBinarizer\n",
        "import matplotlib.pyplot as plt\n",
        "from sklearn.model_selection import train_test_split\n",
        "from sklearn.neighbors import KNeighborsClassifier\n",
        "from sklearn.model_selection import KFold\n",
        "from sklearn.metrics import confusion_matrix\n",
        "from sklearn.metrics import roc_curve, roc_auc_score\n",
        "from sklearn.metrics import precision_score, recall_score, f1_score\n",
        "from sklearn.metrics import precision_recall_curve, auc\n",
        "import seaborn as sns\n",
        "import numpy as np\n",
        "from sklearn.linear_model import Perceptron\n",
        "from sklearn.metrics import accuracy_score\n",
        "from imblearn.under_sampling import RandomUnderSampler \n",
        "from collections import Counter\n",
        "from sklearn.metrics import RocCurveDisplay"
      ]
    },
    {
      "cell_type": "markdown",
      "source": [
        "**Carregamento**\n",
        "\n",
        "Carregamento do data set"
      ],
      "metadata": {
        "id": "LNNhLeVoh5aC"
      }
    },
    {
      "cell_type": "code",
      "source": [
        "data_train = pd.read_csv(\"train.csv\")\n",
        "data_train"
      ],
      "metadata": {
        "colab": {
          "base_uri": "https://localhost:8080/",
          "height": 488
        },
        "id": "cGfXamd445Xi",
        "outputId": "73793209-2282-403f-ee11-c926a14e3c48"
      },
      "execution_count": 2,
      "outputs": [
        {
          "output_type": "execute_result",
          "data": {
            "text/plain": [
              "            id      Time        V1        V2        V3        V4        V5  \\\n",
              "0            0       0.0  2.074329 -0.129425 -1.137418  0.412846 -0.192638   \n",
              "1            1       0.0  1.998827 -1.250891 -0.520969 -0.894539 -1.122528   \n",
              "2            2       0.0  0.091535  1.004517 -0.223445 -0.435249  0.667548   \n",
              "3            3       0.0  1.979649 -0.184949 -1.064206  0.120125 -0.215238   \n",
              "4            4       0.0  1.025898 -0.171827  1.203717  1.243900 -0.636572   \n",
              "...        ...       ...       ...       ...       ...       ...       ...   \n",
              "219124  219124  120580.0  1.891079 -1.272908 -3.783908 -1.388939  2.012789   \n",
              "219125  219125  120580.0  0.139724  0.948649 -2.913655 -2.184829  1.883716   \n",
              "219126  219126  120580.0  2.058343 -0.038993 -1.928553  0.330117  0.270127   \n",
              "219127  219127  120580.0  2.079227 -2.162389 -1.785833 -2.804889  0.552845   \n",
              "219128  219128  120580.0 -0.431758  1.299171 -0.571602 -1.161499  1.141765   \n",
              "\n",
              "              V6        V7        V8  ...       V21       V22       V23  \\\n",
              "0      -1.210144  0.110697 -0.263477  ... -0.334701 -0.887840  0.336701   \n",
              "1      -0.270866 -1.029289  0.050198  ...  0.054848 -0.038367  0.133518   \n",
              "2      -0.988351  0.948146 -0.084789  ... -0.326725 -0.803736  0.154495   \n",
              "3      -0.648829 -0.087826 -0.035367  ... -0.095514 -0.079792  0.167701   \n",
              "4       1.099074 -0.938651  0.569239  ...  0.099157  0.608908  0.027901   \n",
              "...          ...       ...       ...  ...       ...       ...       ...   \n",
              "219124  2.666080  0.151740  0.401934  ... -0.181369 -0.456538 -0.069571   \n",
              "219125 -1.056824  1.725624  0.018089  ...  0.491469  1.478823 -0.085398   \n",
              "219126 -0.735664 -0.173878  0.144823  ... -0.306640 -0.965783  0.307799   \n",
              "219127  4.038013 -2.155900  1.023785  ...  0.109909  0.590401  0.286621   \n",
              "219128 -1.258871  1.701553 -0.454580  ...  0.225629  0.988442 -0.224609   \n",
              "\n",
              "             V24       V25       V26       V27       V28  Amount  Class  \n",
              "0      -0.110835 -0.291459  0.207733 -0.076576 -0.059577    1.98      0  \n",
              "1      -0.461928 -0.465491 -0.464655 -0.009413 -0.038238   84.00      0  \n",
              "2       0.951233 -0.506919  0.085046  0.224458  0.087356    2.69      0  \n",
              "3      -0.042939  0.000799 -0.096148 -0.057780 -0.073839    1.00      0  \n",
              "4      -0.262813  0.257834 -0.252829  0.108338  0.021051    1.00      0  \n",
              "...          ...       ...       ...       ...       ...     ...    ...  \n",
              "219124  0.756765  0.244479 -0.147566 -0.054725 -0.044588  198.65      0  \n",
              "219125 -0.091409 -1.053488  0.467570  0.358918  0.294735   24.00      0  \n",
              "219126 -0.021434 -0.343989  0.181065 -0.098387 -0.044064    1.79      0  \n",
              "219127  0.675660 -0.510736 -0.090044  0.056749 -0.017126   88.00      0  \n",
              "219128  0.082977 -0.335529  0.042237  0.304965  0.240049    3.78      0  \n",
              "\n",
              "[219129 rows x 32 columns]"
            ],
            "text/html": [
              "\n",
              "  <div id=\"df-a8b8f057-d275-48c7-9247-e9e5d8f60bd8\">\n",
              "    <div class=\"colab-df-container\">\n",
              "      <div>\n",
              "<style scoped>\n",
              "    .dataframe tbody tr th:only-of-type {\n",
              "        vertical-align: middle;\n",
              "    }\n",
              "\n",
              "    .dataframe tbody tr th {\n",
              "        vertical-align: top;\n",
              "    }\n",
              "\n",
              "    .dataframe thead th {\n",
              "        text-align: right;\n",
              "    }\n",
              "</style>\n",
              "<table border=\"1\" class=\"dataframe\">\n",
              "  <thead>\n",
              "    <tr style=\"text-align: right;\">\n",
              "      <th></th>\n",
              "      <th>id</th>\n",
              "      <th>Time</th>\n",
              "      <th>V1</th>\n",
              "      <th>V2</th>\n",
              "      <th>V3</th>\n",
              "      <th>V4</th>\n",
              "      <th>V5</th>\n",
              "      <th>V6</th>\n",
              "      <th>V7</th>\n",
              "      <th>V8</th>\n",
              "      <th>...</th>\n",
              "      <th>V21</th>\n",
              "      <th>V22</th>\n",
              "      <th>V23</th>\n",
              "      <th>V24</th>\n",
              "      <th>V25</th>\n",
              "      <th>V26</th>\n",
              "      <th>V27</th>\n",
              "      <th>V28</th>\n",
              "      <th>Amount</th>\n",
              "      <th>Class</th>\n",
              "    </tr>\n",
              "  </thead>\n",
              "  <tbody>\n",
              "    <tr>\n",
              "      <th>0</th>\n",
              "      <td>0</td>\n",
              "      <td>0.0</td>\n",
              "      <td>2.074329</td>\n",
              "      <td>-0.129425</td>\n",
              "      <td>-1.137418</td>\n",
              "      <td>0.412846</td>\n",
              "      <td>-0.192638</td>\n",
              "      <td>-1.210144</td>\n",
              "      <td>0.110697</td>\n",
              "      <td>-0.263477</td>\n",
              "      <td>...</td>\n",
              "      <td>-0.334701</td>\n",
              "      <td>-0.887840</td>\n",
              "      <td>0.336701</td>\n",
              "      <td>-0.110835</td>\n",
              "      <td>-0.291459</td>\n",
              "      <td>0.207733</td>\n",
              "      <td>-0.076576</td>\n",
              "      <td>-0.059577</td>\n",
              "      <td>1.98</td>\n",
              "      <td>0</td>\n",
              "    </tr>\n",
              "    <tr>\n",
              "      <th>1</th>\n",
              "      <td>1</td>\n",
              "      <td>0.0</td>\n",
              "      <td>1.998827</td>\n",
              "      <td>-1.250891</td>\n",
              "      <td>-0.520969</td>\n",
              "      <td>-0.894539</td>\n",
              "      <td>-1.122528</td>\n",
              "      <td>-0.270866</td>\n",
              "      <td>-1.029289</td>\n",
              "      <td>0.050198</td>\n",
              "      <td>...</td>\n",
              "      <td>0.054848</td>\n",
              "      <td>-0.038367</td>\n",
              "      <td>0.133518</td>\n",
              "      <td>-0.461928</td>\n",
              "      <td>-0.465491</td>\n",
              "      <td>-0.464655</td>\n",
              "      <td>-0.009413</td>\n",
              "      <td>-0.038238</td>\n",
              "      <td>84.00</td>\n",
              "      <td>0</td>\n",
              "    </tr>\n",
              "    <tr>\n",
              "      <th>2</th>\n",
              "      <td>2</td>\n",
              "      <td>0.0</td>\n",
              "      <td>0.091535</td>\n",
              "      <td>1.004517</td>\n",
              "      <td>-0.223445</td>\n",
              "      <td>-0.435249</td>\n",
              "      <td>0.667548</td>\n",
              "      <td>-0.988351</td>\n",
              "      <td>0.948146</td>\n",
              "      <td>-0.084789</td>\n",
              "      <td>...</td>\n",
              "      <td>-0.326725</td>\n",
              "      <td>-0.803736</td>\n",
              "      <td>0.154495</td>\n",
              "      <td>0.951233</td>\n",
              "      <td>-0.506919</td>\n",
              "      <td>0.085046</td>\n",
              "      <td>0.224458</td>\n",
              "      <td>0.087356</td>\n",
              "      <td>2.69</td>\n",
              "      <td>0</td>\n",
              "    </tr>\n",
              "    <tr>\n",
              "      <th>3</th>\n",
              "      <td>3</td>\n",
              "      <td>0.0</td>\n",
              "      <td>1.979649</td>\n",
              "      <td>-0.184949</td>\n",
              "      <td>-1.064206</td>\n",
              "      <td>0.120125</td>\n",
              "      <td>-0.215238</td>\n",
              "      <td>-0.648829</td>\n",
              "      <td>-0.087826</td>\n",
              "      <td>-0.035367</td>\n",
              "      <td>...</td>\n",
              "      <td>-0.095514</td>\n",
              "      <td>-0.079792</td>\n",
              "      <td>0.167701</td>\n",
              "      <td>-0.042939</td>\n",
              "      <td>0.000799</td>\n",
              "      <td>-0.096148</td>\n",
              "      <td>-0.057780</td>\n",
              "      <td>-0.073839</td>\n",
              "      <td>1.00</td>\n",
              "      <td>0</td>\n",
              "    </tr>\n",
              "    <tr>\n",
              "      <th>4</th>\n",
              "      <td>4</td>\n",
              "      <td>0.0</td>\n",
              "      <td>1.025898</td>\n",
              "      <td>-0.171827</td>\n",
              "      <td>1.203717</td>\n",
              "      <td>1.243900</td>\n",
              "      <td>-0.636572</td>\n",
              "      <td>1.099074</td>\n",
              "      <td>-0.938651</td>\n",
              "      <td>0.569239</td>\n",
              "      <td>...</td>\n",
              "      <td>0.099157</td>\n",
              "      <td>0.608908</td>\n",
              "      <td>0.027901</td>\n",
              "      <td>-0.262813</td>\n",
              "      <td>0.257834</td>\n",
              "      <td>-0.252829</td>\n",
              "      <td>0.108338</td>\n",
              "      <td>0.021051</td>\n",
              "      <td>1.00</td>\n",
              "      <td>0</td>\n",
              "    </tr>\n",
              "    <tr>\n",
              "      <th>...</th>\n",
              "      <td>...</td>\n",
              "      <td>...</td>\n",
              "      <td>...</td>\n",
              "      <td>...</td>\n",
              "      <td>...</td>\n",
              "      <td>...</td>\n",
              "      <td>...</td>\n",
              "      <td>...</td>\n",
              "      <td>...</td>\n",
              "      <td>...</td>\n",
              "      <td>...</td>\n",
              "      <td>...</td>\n",
              "      <td>...</td>\n",
              "      <td>...</td>\n",
              "      <td>...</td>\n",
              "      <td>...</td>\n",
              "      <td>...</td>\n",
              "      <td>...</td>\n",
              "      <td>...</td>\n",
              "      <td>...</td>\n",
              "      <td>...</td>\n",
              "    </tr>\n",
              "    <tr>\n",
              "      <th>219124</th>\n",
              "      <td>219124</td>\n",
              "      <td>120580.0</td>\n",
              "      <td>1.891079</td>\n",
              "      <td>-1.272908</td>\n",
              "      <td>-3.783908</td>\n",
              "      <td>-1.388939</td>\n",
              "      <td>2.012789</td>\n",
              "      <td>2.666080</td>\n",
              "      <td>0.151740</td>\n",
              "      <td>0.401934</td>\n",
              "      <td>...</td>\n",
              "      <td>-0.181369</td>\n",
              "      <td>-0.456538</td>\n",
              "      <td>-0.069571</td>\n",
              "      <td>0.756765</td>\n",
              "      <td>0.244479</td>\n",
              "      <td>-0.147566</td>\n",
              "      <td>-0.054725</td>\n",
              "      <td>-0.044588</td>\n",
              "      <td>198.65</td>\n",
              "      <td>0</td>\n",
              "    </tr>\n",
              "    <tr>\n",
              "      <th>219125</th>\n",
              "      <td>219125</td>\n",
              "      <td>120580.0</td>\n",
              "      <td>0.139724</td>\n",
              "      <td>0.948649</td>\n",
              "      <td>-2.913655</td>\n",
              "      <td>-2.184829</td>\n",
              "      <td>1.883716</td>\n",
              "      <td>-1.056824</td>\n",
              "      <td>1.725624</td>\n",
              "      <td>0.018089</td>\n",
              "      <td>...</td>\n",
              "      <td>0.491469</td>\n",
              "      <td>1.478823</td>\n",
              "      <td>-0.085398</td>\n",
              "      <td>-0.091409</td>\n",
              "      <td>-1.053488</td>\n",
              "      <td>0.467570</td>\n",
              "      <td>0.358918</td>\n",
              "      <td>0.294735</td>\n",
              "      <td>24.00</td>\n",
              "      <td>0</td>\n",
              "    </tr>\n",
              "    <tr>\n",
              "      <th>219126</th>\n",
              "      <td>219126</td>\n",
              "      <td>120580.0</td>\n",
              "      <td>2.058343</td>\n",
              "      <td>-0.038993</td>\n",
              "      <td>-1.928553</td>\n",
              "      <td>0.330117</td>\n",
              "      <td>0.270127</td>\n",
              "      <td>-0.735664</td>\n",
              "      <td>-0.173878</td>\n",
              "      <td>0.144823</td>\n",
              "      <td>...</td>\n",
              "      <td>-0.306640</td>\n",
              "      <td>-0.965783</td>\n",
              "      <td>0.307799</td>\n",
              "      <td>-0.021434</td>\n",
              "      <td>-0.343989</td>\n",
              "      <td>0.181065</td>\n",
              "      <td>-0.098387</td>\n",
              "      <td>-0.044064</td>\n",
              "      <td>1.79</td>\n",
              "      <td>0</td>\n",
              "    </tr>\n",
              "    <tr>\n",
              "      <th>219127</th>\n",
              "      <td>219127</td>\n",
              "      <td>120580.0</td>\n",
              "      <td>2.079227</td>\n",
              "      <td>-2.162389</td>\n",
              "      <td>-1.785833</td>\n",
              "      <td>-2.804889</td>\n",
              "      <td>0.552845</td>\n",
              "      <td>4.038013</td>\n",
              "      <td>-2.155900</td>\n",
              "      <td>1.023785</td>\n",
              "      <td>...</td>\n",
              "      <td>0.109909</td>\n",
              "      <td>0.590401</td>\n",
              "      <td>0.286621</td>\n",
              "      <td>0.675660</td>\n",
              "      <td>-0.510736</td>\n",
              "      <td>-0.090044</td>\n",
              "      <td>0.056749</td>\n",
              "      <td>-0.017126</td>\n",
              "      <td>88.00</td>\n",
              "      <td>0</td>\n",
              "    </tr>\n",
              "    <tr>\n",
              "      <th>219128</th>\n",
              "      <td>219128</td>\n",
              "      <td>120580.0</td>\n",
              "      <td>-0.431758</td>\n",
              "      <td>1.299171</td>\n",
              "      <td>-0.571602</td>\n",
              "      <td>-1.161499</td>\n",
              "      <td>1.141765</td>\n",
              "      <td>-1.258871</td>\n",
              "      <td>1.701553</td>\n",
              "      <td>-0.454580</td>\n",
              "      <td>...</td>\n",
              "      <td>0.225629</td>\n",
              "      <td>0.988442</td>\n",
              "      <td>-0.224609</td>\n",
              "      <td>0.082977</td>\n",
              "      <td>-0.335529</td>\n",
              "      <td>0.042237</td>\n",
              "      <td>0.304965</td>\n",
              "      <td>0.240049</td>\n",
              "      <td>3.78</td>\n",
              "      <td>0</td>\n",
              "    </tr>\n",
              "  </tbody>\n",
              "</table>\n",
              "<p>219129 rows × 32 columns</p>\n",
              "</div>\n",
              "      <button class=\"colab-df-convert\" onclick=\"convertToInteractive('df-a8b8f057-d275-48c7-9247-e9e5d8f60bd8')\"\n",
              "              title=\"Convert this dataframe to an interactive table.\"\n",
              "              style=\"display:none;\">\n",
              "        \n",
              "  <svg xmlns=\"http://www.w3.org/2000/svg\" height=\"24px\"viewBox=\"0 0 24 24\"\n",
              "       width=\"24px\">\n",
              "    <path d=\"M0 0h24v24H0V0z\" fill=\"none\"/>\n",
              "    <path d=\"M18.56 5.44l.94 2.06.94-2.06 2.06-.94-2.06-.94-.94-2.06-.94 2.06-2.06.94zm-11 1L8.5 8.5l.94-2.06 2.06-.94-2.06-.94L8.5 2.5l-.94 2.06-2.06.94zm10 10l.94 2.06.94-2.06 2.06-.94-2.06-.94-.94-2.06-.94 2.06-2.06.94z\"/><path d=\"M17.41 7.96l-1.37-1.37c-.4-.4-.92-.59-1.43-.59-.52 0-1.04.2-1.43.59L10.3 9.45l-7.72 7.72c-.78.78-.78 2.05 0 2.83L4 21.41c.39.39.9.59 1.41.59.51 0 1.02-.2 1.41-.59l7.78-7.78 2.81-2.81c.8-.78.8-2.07 0-2.86zM5.41 20L4 18.59l7.72-7.72 1.47 1.35L5.41 20z\"/>\n",
              "  </svg>\n",
              "      </button>\n",
              "      \n",
              "  <style>\n",
              "    .colab-df-container {\n",
              "      display:flex;\n",
              "      flex-wrap:wrap;\n",
              "      gap: 12px;\n",
              "    }\n",
              "\n",
              "    .colab-df-convert {\n",
              "      background-color: #E8F0FE;\n",
              "      border: none;\n",
              "      border-radius: 50%;\n",
              "      cursor: pointer;\n",
              "      display: none;\n",
              "      fill: #1967D2;\n",
              "      height: 32px;\n",
              "      padding: 0 0 0 0;\n",
              "      width: 32px;\n",
              "    }\n",
              "\n",
              "    .colab-df-convert:hover {\n",
              "      background-color: #E2EBFA;\n",
              "      box-shadow: 0px 1px 2px rgba(60, 64, 67, 0.3), 0px 1px 3px 1px rgba(60, 64, 67, 0.15);\n",
              "      fill: #174EA6;\n",
              "    }\n",
              "\n",
              "    [theme=dark] .colab-df-convert {\n",
              "      background-color: #3B4455;\n",
              "      fill: #D2E3FC;\n",
              "    }\n",
              "\n",
              "    [theme=dark] .colab-df-convert:hover {\n",
              "      background-color: #434B5C;\n",
              "      box-shadow: 0px 1px 3px 1px rgba(0, 0, 0, 0.15);\n",
              "      filter: drop-shadow(0px 1px 2px rgba(0, 0, 0, 0.3));\n",
              "      fill: #FFFFFF;\n",
              "    }\n",
              "  </style>\n",
              "\n",
              "      <script>\n",
              "        const buttonEl =\n",
              "          document.querySelector('#df-a8b8f057-d275-48c7-9247-e9e5d8f60bd8 button.colab-df-convert');\n",
              "        buttonEl.style.display =\n",
              "          google.colab.kernel.accessAllowed ? 'block' : 'none';\n",
              "\n",
              "        async function convertToInteractive(key) {\n",
              "          const element = document.querySelector('#df-a8b8f057-d275-48c7-9247-e9e5d8f60bd8');\n",
              "          const dataTable =\n",
              "            await google.colab.kernel.invokeFunction('convertToInteractive',\n",
              "                                                     [key], {});\n",
              "          if (!dataTable) return;\n",
              "\n",
              "          const docLinkHtml = 'Like what you see? Visit the ' +\n",
              "            '<a target=\"_blank\" href=https://colab.research.google.com/notebooks/data_table.ipynb>data table notebook</a>'\n",
              "            + ' to learn more about interactive tables.';\n",
              "          element.innerHTML = '';\n",
              "          dataTable['output_type'] = 'display_data';\n",
              "          await google.colab.output.renderOutput(dataTable, element);\n",
              "          const docLink = document.createElement('div');\n",
              "          docLink.innerHTML = docLinkHtml;\n",
              "          element.appendChild(docLink);\n",
              "        }\n",
              "      </script>\n",
              "    </div>\n",
              "  </div>\n",
              "  "
            ]
          },
          "metadata": {},
          "execution_count": 2
        }
      ]
    },
    {
      "cell_type": "markdown",
      "source": [
        "**Análise**"
      ],
      "metadata": {
        "id": "0oLCGgsAi4Xv"
      }
    },
    {
      "cell_type": "markdown",
      "source": [
        "Mostra como é a dritribuição de intâncias entre as labels."
      ],
      "metadata": {
        "id": "it1zl4rii9Pe"
      }
    },
    {
      "cell_type": "code",
      "source": [
        "print(data_train['Class'].value_counts())"
      ],
      "metadata": {
        "colab": {
          "base_uri": "https://localhost:8080/"
        },
        "id": "oZJvD29r-HYv",
        "outputId": "a2e3c9b4-1cb1-472f-8bef-49b824a6d3ba"
      },
      "execution_count": 3,
      "outputs": [
        {
          "output_type": "stream",
          "name": "stdout",
          "text": [
            "0    218660\n",
            "1       469\n",
            "Name: Class, dtype: int64\n"
          ]
        }
      ]
    },
    {
      "cell_type": "code",
      "source": [
        "classes = [0, 1]\n",
        "cont = [218660, 469]\n",
        "plt.bar(classes, cont)\n",
        "plt.xlabel('Classes')\n",
        "plt.ylabel('Contagem')\n",
        "plt.yscale('log')\n",
        "plt.show()"
      ],
      "metadata": {
        "colab": {
          "base_uri": "https://localhost:8080/",
          "height": 449
        },
        "id": "b1cuHiNO6gZp",
        "outputId": "d8fda68a-8f58-4437-a754-4e558ef8cf35"
      },
      "execution_count": 188,
      "outputs": [
        {
          "output_type": "display_data",
          "data": {
            "text/plain": [
              "<Figure size 640x480 with 1 Axes>"
            ],
            "image/png": "[encoded data removed]"
          },
          "metadata": {}
        }
      ]
    },
    {
      "cell_type": "markdown",
      "source": [
        "Verifica se há instâncias com features vazias"
      ],
      "metadata": {
        "id": "yZhdJkMkjM-n"
      }
    },
    {
      "cell_type": "code",
      "source": [
        "data_train.dropna(axis=0)\n",
        "data_train"
      ],
      "metadata": {
        "colab": {
          "base_uri": "https://localhost:8080/",
          "height": 488
        },
        "id": "6CODMgCf3Lju",
        "outputId": "d6147b90-06de-4282-8809-7968f3afac5e"
      },
      "execution_count": 5,
      "outputs": [
        {
          "output_type": "execute_result",
          "data": {
            "text/plain": [
              "            id      Time        V1        V2        V3        V4        V5  \\\n",
              "0            0       0.0  2.074329 -0.129425 -1.137418  0.412846 -0.192638   \n",
              "1            1       0.0  1.998827 -1.250891 -0.520969 -0.894539 -1.122528   \n",
              "2            2       0.0  0.091535  1.004517 -0.223445 -0.435249  0.667548   \n",
              "3            3       0.0  1.979649 -0.184949 -1.064206  0.120125 -0.215238   \n",
              "4            4       0.0  1.025898 -0.171827  1.203717  1.243900 -0.636572   \n",
              "...        ...       ...       ...       ...       ...       ...       ...   \n",
              "219124  219124  120580.0  1.891079 -1.272908 -3.783908 -1.388939  2.012789   \n",
              "219125  219125  120580.0  0.139724  0.948649 -2.913655 -2.184829  1.883716   \n",
              "219126  219126  120580.0  2.058343 -0.038993 -1.928553  0.330117  0.270127   \n",
              "219127  219127  120580.0  2.079227 -2.162389 -1.785833 -2.804889  0.552845   \n",
              "219128  219128  120580.0 -0.431758  1.299171 -0.571602 -1.161499  1.141765   \n",
              "\n",
              "              V6        V7        V8  ...       V21       V22       V23  \\\n",
              "0      -1.210144  0.110697 -0.263477  ... -0.334701 -0.887840  0.336701   \n",
              "1      -0.270866 -1.029289  0.050198  ...  0.054848 -0.038367  0.133518   \n",
              "2      -0.988351  0.948146 -0.084789  ... -0.326725 -0.803736  0.154495   \n",
              "3      -0.648829 -0.087826 -0.035367  ... -0.095514 -0.079792  0.167701   \n",
              "4       1.099074 -0.938651  0.569239  ...  0.099157  0.608908  0.027901   \n",
              "...          ...       ...       ...  ...       ...       ...       ...   \n",
              "219124  2.666080  0.151740  0.401934  ... -0.181369 -0.456538 -0.069571   \n",
              "219125 -1.056824  1.725624  0.018089  ...  0.491469  1.478823 -0.085398   \n",
              "219126 -0.735664 -0.173878  0.144823  ... -0.306640 -0.965783  0.307799   \n",
              "219127  4.038013 -2.155900  1.023785  ...  0.109909  0.590401  0.286621   \n",
              "219128 -1.258871  1.701553 -0.454580  ...  0.225629  0.988442 -0.224609   \n",
              "\n",
              "             V24       V25       V26       V27       V28  Amount  Class  \n",
              "0      -0.110835 -0.291459  0.207733 -0.076576 -0.059577    1.98      0  \n",
              "1      -0.461928 -0.465491 -0.464655 -0.009413 -0.038238   84.00      0  \n",
              "2       0.951233 -0.506919  0.085046  0.224458  0.087356    2.69      0  \n",
              "3      -0.042939  0.000799 -0.096148 -0.057780 -0.073839    1.00      0  \n",
              "4      -0.262813  0.257834 -0.252829  0.108338  0.021051    1.00      0  \n",
              "...          ...       ...       ...       ...       ...     ...    ...  \n",
              "219124  0.756765  0.244479 -0.147566 -0.054725 -0.044588  198.65      0  \n",
              "219125 -0.091409 -1.053488  0.467570  0.358918  0.294735   24.00      0  \n",
              "219126 -0.021434 -0.343989  0.181065 -0.098387 -0.044064    1.79      0  \n",
              "219127  0.675660 -0.510736 -0.090044  0.056749 -0.017126   88.00      0  \n",
              "219128  0.082977 -0.335529  0.042237  0.304965  0.240049    3.78      0  \n",
              "\n",
              "[219129 rows x 32 columns]"
            ],
            "text/html": [
              "\n",
              "  <div id=\"df-1e4cb961-95af-4274-9ea5-97b942cf68b6\">\n",
              "    <div class=\"colab-df-container\">\n",
              "      <div>\n",
              "<style scoped>\n",
              "    .dataframe tbody tr th:only-of-type {\n",
              "        vertical-align: middle;\n",
              "    }\n",
              "\n",
              "    .dataframe tbody tr th {\n",
              "        vertical-align: top;\n",
              "    }\n",
              "\n",
              "    .dataframe thead th {\n",
              "        text-align: right;\n",
              "    }\n",
              "</style>\n",
              "<table border=\"1\" class=\"dataframe\">\n",
              "  <thead>\n",
              "    <tr style=\"text-align: right;\">\n",
              "      <th></th>\n",
              "      <th>id</th>\n",
              "      <th>Time</th>\n",
              "      <th>V1</th>\n",
              "      <th>V2</th>\n",
              "      <th>V3</th>\n",
              "      <th>V4</th>\n",
              "      <th>V5</th>\n",
              "      <th>V6</th>\n",
              "      <th>V7</th>\n",
              "      <th>V8</th>\n",
              "      <th>...</th>\n",
              "      <th>V21</th>\n",
              "      <th>V22</th>\n",
              "      <th>V23</th>\n",
              "      <th>V24</th>\n",
              "      <th>V25</th>\n",
              "      <th>V26</th>\n",
              "      <th>V27</th>\n",
              "      <th>V28</th>\n",
              "      <th>Amount</th>\n",
              "      <th>Class</th>\n",
              "    </tr>\n",
              "  </thead>\n",
              "  <tbody>\n",
              "    <tr>\n",
              "      <th>0</th>\n",
              "      <td>0</td>\n",
              "      <td>0.0</td>\n",
              "      <td>2.074329</td>\n",
              "      <td>-0.129425</td>\n",
              "      <td>-1.137418</td>\n",
              "      <td>0.412846</td>\n",
              "      <td>-0.192638</td>\n",
              "      <td>-1.210144</td>\n",
              "      <td>0.110697</td>\n",
              "      <td>-0.263477</td>\n",
              "      <td>...</td>\n",
              "      <td>-0.334701</td>\n",
              "      <td>-0.887840</td>\n",
              "      <td>0.336701</td>\n",
              "      <td>-0.110835</td>\n",
              "      <td>-0.291459</td>\n",
              "      <td>0.207733</td>\n",
              "      <td>-0.076576</td>\n",
              "      <td>-0.059577</td>\n",
              "      <td>1.98</td>\n",
              "      <td>0</td>\n",
              "    </tr>\n",
              "    <tr>\n",
              "      <th>1</th>\n",
              "      <td>1</td>\n",
              "      <td>0.0</td>\n",
              "      <td>1.998827</td>\n",
              "      <td>-1.250891</td>\n",
              "      <td>-0.520969</td>\n",
              "      <td>-0.894539</td>\n",
              "      <td>-1.122528</td>\n",
              "      <td>-0.270866</td>\n",
              "      <td>-1.029289</td>\n",
              "      <td>0.050198</td>\n",
              "      <td>...</td>\n",
              "      <td>0.054848</td>\n",
              "      <td>-0.038367</td>\n",
              "      <td>0.133518</td>\n",
              "      <td>-0.461928</td>\n",
              "      <td>-0.465491</td>\n",
              "      <td>-0.464655</td>\n",
              "      <td>-0.009413</td>\n",
              "      <td>-0.038238</td>\n",
              "      <td>84.00</td>\n",
              "      <td>0</td>\n",
              "    </tr>\n",
              "    <tr>\n",
              "      <th>2</th>\n",
              "      <td>2</td>\n",
              "      <td>0.0</td>\n",
              "      <td>0.091535</td>\n",
              "      <td>1.004517</td>\n",
              "      <td>-0.223445</td>\n",
              "      <td>-0.435249</td>\n",
              "      <td>0.667548</td>\n",
              "      <td>-0.988351</td>\n",
              "      <td>0.948146</td>\n",
              "      <td>-0.084789</td>\n",
              "      <td>...</td>\n",
              "      <td>-0.326725</td>\n",
              "      <td>-0.803736</td>\n",
              "      <td>0.154495</td>\n",
              "      <td>0.951233</td>\n",
              "      <td>-0.506919</td>\n",
              "      <td>0.085046</td>\n",
              "      <td>0.224458</td>\n",
              "      <td>0.087356</td>\n",
              "      <td>2.69</td>\n",
              "      <td>0</td>\n",
              "    </tr>\n",
              "    <tr>\n",
              "      <th>3</th>\n",
              "      <td>3</td>\n",
              "      <td>0.0</td>\n",
              "      <td>1.979649</td>\n",
              "      <td>-0.184949</td>\n",
              "      <td>-1.064206</td>\n",
              "      <td>0.120125</td>\n",
              "      <td>-0.215238</td>\n",
              "      <td>-0.648829</td>\n",
              "      <td>-0.087826</td>\n",
              "      <td>-0.035367</td>\n",
              "      <td>...</td>\n",
              "      <td>-0.095514</td>\n",
              "      <td>-0.079792</td>\n",
              "      <td>0.167701</td>\n",
              "      <td>-0.042939</td>\n",
              "      <td>0.000799</td>\n",
              "      <td>-0.096148</td>\n",
              "      <td>-0.057780</td>\n",
              "      <td>-0.073839</td>\n",
              "      <td>1.00</td>\n",
              "      <td>0</td>\n",
              "    </tr>\n",
              "    <tr>\n",
              "      <th>4</th>\n",
              "      <td>4</td>\n",
              "      <td>0.0</td>\n",
              "      <td>1.025898</td>\n",
              "      <td>-0.171827</td>\n",
              "      <td>1.203717</td>\n",
              "      <td>1.243900</td>\n",
              "      <td>-0.636572</td>\n",
              "      <td>1.099074</td>\n",
              "      <td>-0.938651</td>\n",
              "      <td>0.569239</td>\n",
              "      <td>...</td>\n",
              "      <td>0.099157</td>\n",
              "      <td>0.608908</td>\n",
              "      <td>0.027901</td>\n",
              "      <td>-0.262813</td>\n",
              "      <td>0.257834</td>\n",
              "      <td>-0.252829</td>\n",
              "      <td>0.108338</td>\n",
              "      <td>0.021051</td>\n",
              "      <td>1.00</td>\n",
              "      <td>0</td>\n",
              "    </tr>\n",
              "    <tr>\n",
              "      <th>...</th>\n",
              "      <td>...</td>\n",
              "      <td>...</td>\n",
              "      <td>...</td>\n",
              "      <td>...</td>\n",
              "      <td>...</td>\n",
              "      <td>...</td>\n",
              "      <td>...</td>\n",
              "      <td>...</td>\n",
              "      <td>...</td>\n",
              "      <td>...</td>\n",
              "      <td>...</td>\n",
              "      <td>...</td>\n",
              "      <td>...</td>\n",
              "      <td>...</td>\n",
              "      <td>...</td>\n",
              "      <td>...</td>\n",
              "      <td>...</td>\n",
              "      <td>...</td>\n",
              "      <td>...</td>\n",
              "      <td>...</td>\n",
              "      <td>...</td>\n",
              "    </tr>\n",
              "    <tr>\n",
              "      <th>219124</th>\n",
              "      <td>219124</td>\n",
              "      <td>120580.0</td>\n",
              "      <td>1.891079</td>\n",
              "      <td>-1.272908</td>\n",
              "      <td>-3.783908</td>\n",
              "      <td>-1.388939</td>\n",
              "      <td>2.012789</td>\n",
              "      <td>2.666080</td>\n",
              "      <td>0.151740</td>\n",
              "      <td>0.401934</td>\n",
              "      <td>...</td>\n",
              "      <td>-0.181369</td>\n",
              "      <td>-0.456538</td>\n",
              "      <td>-0.069571</td>\n",
              "      <td>0.756765</td>\n",
              "      <td>0.244479</td>\n",
              "      <td>-0.147566</td>\n",
              "      <td>-0.054725</td>\n",
              "      <td>-0.044588</td>\n",
              "      <td>198.65</td>\n",
              "      <td>0</td>\n",
              "    </tr>\n",
              "    <tr>\n",
              "      <th>219125</th>\n",
              "      <td>219125</td>\n",
              "      <td>120580.0</td>\n",
              "      <td>0.139724</td>\n",
              "      <td>0.948649</td>\n",
              "      <td>-2.913655</td>\n",
              "      <td>-2.184829</td>\n",
              "      <td>1.883716</td>\n",
              "      <td>-1.056824</td>\n",
              "      <td>1.725624</td>\n",
              "      <td>0.018089</td>\n",
              "      <td>...</td>\n",
              "      <td>0.491469</td>\n",
              "      <td>1.478823</td>\n",
              "      <td>-0.085398</td>\n",
              "      <td>-0.091409</td>\n",
              "      <td>-1.053488</td>\n",
              "      <td>0.467570</td>\n",
              "      <td>0.358918</td>\n",
              "      <td>0.294735</td>\n",
              "      <td>24.00</td>\n",
              "      <td>0</td>\n",
              "    </tr>\n",
              "    <tr>\n",
              "      <th>219126</th>\n",
              "      <td>219126</td>\n",
              "      <td>120580.0</td>\n",
              "      <td>2.058343</td>\n",
              "      <td>-0.038993</td>\n",
              "      <td>-1.928553</td>\n",
              "      <td>0.330117</td>\n",
              "      <td>0.270127</td>\n",
              "      <td>-0.735664</td>\n",
              "      <td>-0.173878</td>\n",
              "      <td>0.144823</td>\n",
              "      <td>...</td>\n",
              "      <td>-0.306640</td>\n",
              "      <td>-0.965783</td>\n",
              "      <td>0.307799</td>\n",
              "      <td>-0.021434</td>\n",
              "      <td>-0.343989</td>\n",
              "      <td>0.181065</td>\n",
              "      <td>-0.098387</td>\n",
              "      <td>-0.044064</td>\n",
              "      <td>1.79</td>\n",
              "      <td>0</td>\n",
              "    </tr>\n",
              "    <tr>\n",
              "      <th>219127</th>\n",
              "      <td>219127</td>\n",
              "      <td>120580.0</td>\n",
              "      <td>2.079227</td>\n",
              "      <td>-2.162389</td>\n",
              "      <td>-1.785833</td>\n",
              "      <td>-2.804889</td>\n",
              "      <td>0.552845</td>\n",
              "      <td>4.038013</td>\n",
              "      <td>-2.155900</td>\n",
              "      <td>1.023785</td>\n",
              "      <td>...</td>\n",
              "      <td>0.109909</td>\n",
              "      <td>0.590401</td>\n",
              "      <td>0.286621</td>\n",
              "      <td>0.675660</td>\n",
              "      <td>-0.510736</td>\n",
              "      <td>-0.090044</td>\n",
              "      <td>0.056749</td>\n",
              "      <td>-0.017126</td>\n",
              "      <td>88.00</td>\n",
              "      <td>0</td>\n",
              "    </tr>\n",
              "    <tr>\n",
              "      <th>219128</th>\n",
              "      <td>219128</td>\n",
              "      <td>120580.0</td>\n",
              "      <td>-0.431758</td>\n",
              "      <td>1.299171</td>\n",
              "      <td>-0.571602</td>\n",
              "      <td>-1.161499</td>\n",
              "      <td>1.141765</td>\n",
              "      <td>-1.258871</td>\n",
              "      <td>1.701553</td>\n",
              "      <td>-0.454580</td>\n",
              "      <td>...</td>\n",
              "      <td>0.225629</td>\n",
              "      <td>0.988442</td>\n",
              "      <td>-0.224609</td>\n",
              "      <td>0.082977</td>\n",
              "      <td>-0.335529</td>\n",
              "      <td>0.042237</td>\n",
              "      <td>0.304965</td>\n",
              "      <td>0.240049</td>\n",
              "      <td>3.78</td>\n",
              "      <td>0</td>\n",
              "    </tr>\n",
              "  </tbody>\n",
              "</table>\n",
              "<p>219129 rows × 32 columns</p>\n",
              "</div>\n",
              "      <button class=\"colab-df-convert\" onclick=\"convertToInteractive('df-1e4cb961-95af-4274-9ea5-97b942cf68b6')\"\n",
              "              title=\"Convert this dataframe to an interactive table.\"\n",
              "              style=\"display:none;\">\n",
              "        \n",
              "  <svg xmlns=\"http://www.w3.org/2000/svg\" height=\"24px\"viewBox=\"0 0 24 24\"\n",
              "       width=\"24px\">\n",
              "    <path d=\"M0 0h24v24H0V0z\" fill=\"none\"/>\n",
              "    <path d=\"M18.56 5.44l.94 2.06.94-2.06 2.06-.94-2.06-.94-.94-2.06-.94 2.06-2.06.94zm-11 1L8.5 8.5l.94-2.06 2.06-.94-2.06-.94L8.5 2.5l-.94 2.06-2.06.94zm10 10l.94 2.06.94-2.06 2.06-.94-2.06-.94-.94-2.06-.94 2.06-2.06.94z\"/><path d=\"M17.41 7.96l-1.37-1.37c-.4-.4-.92-.59-1.43-.59-.52 0-1.04.2-1.43.59L10.3 9.45l-7.72 7.72c-.78.78-.78 2.05 0 2.83L4 21.41c.39.39.9.59 1.41.59.51 0 1.02-.2 1.41-.59l7.78-7.78 2.81-2.81c.8-.78.8-2.07 0-2.86zM5.41 20L4 18.59l7.72-7.72 1.47 1.35L5.41 20z\"/>\n",
              "  </svg>\n",
              "      </button>\n",
              "      \n",
              "  <style>\n",
              "    .colab-df-container {\n",
              "      display:flex;\n",
              "      flex-wrap:wrap;\n",
              "      gap: 12px;\n",
              "    }\n",
              "\n",
              "    .colab-df-convert {\n",
              "      background-color: #E8F0FE;\n",
              "      border: none;\n",
              "      border-radius: 50%;\n",
              "      cursor: pointer;\n",
              "      display: none;\n",
              "      fill: #1967D2;\n",
              "      height: 32px;\n",
              "      padding: 0 0 0 0;\n",
              "      width: 32px;\n",
              "    }\n",
              "\n",
              "    .colab-df-convert:hover {\n",
              "      background-color: #E2EBFA;\n",
              "      box-shadow: 0px 1px 2px rgba(60, 64, 67, 0.3), 0px 1px 3px 1px rgba(60, 64, 67, 0.15);\n",
              "      fill: #174EA6;\n",
              "    }\n",
              "\n",
              "    [theme=dark] .colab-df-convert {\n",
              "      background-color: #3B4455;\n",
              "      fill: #D2E3FC;\n",
              "    }\n",
              "\n",
              "    [theme=dark] .colab-df-convert:hover {\n",
              "      background-color: #434B5C;\n",
              "      box-shadow: 0px 1px 3px 1px rgba(0, 0, 0, 0.15);\n",
              "      filter: drop-shadow(0px 1px 2px rgba(0, 0, 0, 0.3));\n",
              "      fill: #FFFFFF;\n",
              "    }\n",
              "  </style>\n",
              "\n",
              "      <script>\n",
              "        const buttonEl =\n",
              "          document.querySelector('#df-1e4cb961-95af-4274-9ea5-97b942cf68b6 button.colab-df-convert');\n",
              "        buttonEl.style.display =\n",
              "          google.colab.kernel.accessAllowed ? 'block' : 'none';\n",
              "\n",
              "        async function convertToInteractive(key) {\n",
              "          const element = document.querySelector('#df-1e4cb961-95af-4274-9ea5-97b942cf68b6');\n",
              "          const dataTable =\n",
              "            await google.colab.kernel.invokeFunction('convertToInteractive',\n",
              "                                                     [key], {});\n",
              "          if (!dataTable) return;\n",
              "\n",
              "          const docLinkHtml = 'Like what you see? Visit the ' +\n",
              "            '<a target=\"_blank\" href=https://colab.research.google.com/notebooks/data_table.ipynb>data table notebook</a>'\n",
              "            + ' to learn more about interactive tables.';\n",
              "          element.innerHTML = '';\n",
              "          dataTable['output_type'] = 'display_data';\n",
              "          await google.colab.output.renderOutput(dataTable, element);\n",
              "          const docLink = document.createElement('div');\n",
              "          docLink.innerHTML = docLinkHtml;\n",
              "          element.appendChild(docLink);\n",
              "        }\n",
              "      </script>\n",
              "    </div>\n",
              "  </div>\n",
              "  "
            ]
          },
          "metadata": {},
          "execution_count": 5
        }
      ]
    },
    {
      "cell_type": "markdown",
      "source": [
        "Verifica se há instâncias duplicadas."
      ],
      "metadata": {
        "id": "YwWzh9LcjWQ-"
      }
    },
    {
      "cell_type": "code",
      "source": [
        "duplicadas = data_train.duplicated()\n",
        "if duplicadas.any():\n",
        "    print(\"True\")\n",
        "else:\n",
        "    print(\"False\")"
      ],
      "metadata": {
        "colab": {
          "base_uri": "https://localhost:8080/"
        },
        "id": "1XM5ctKxX7sn",
        "outputId": "0406f047-1312-4cc4-9a8e-9088465c78ef"
      },
      "execution_count": 6,
      "outputs": [
        {
          "output_type": "stream",
          "name": "stdout",
          "text": [
            "False\n"
          ]
        }
      ]
    },
    {
      "cell_type": "markdown",
      "source": [
        "**Tratamento**"
      ],
      "metadata": {
        "id": "GX3RTQDKjbTZ"
      }
    },
    {
      "cell_type": "markdown",
      "source": [
        "Filtra as features de V1 até V28 e o valor da transação"
      ],
      "metadata": {
        "id": "vLuwxlDcjm4G"
      }
    },
    {
      "cell_type": "code",
      "source": [
        "features = [\"V1\", \"V2\", \"V3\", \"V4\", \"V5\", \"V6\", \n",
        "            \"V7\", \"V8\", \"V9\", \"V10\", \"V11\", \"V12\", \n",
        "            \"V13\", \"V14\", \"V15\", \"V16\", \"V17\", \"V18\", \n",
        "            \"V19\", \"V20\", \"V21\", \"V22\", \"V23\", \"V24\", \n",
        "            \"V25\", \"V26\", \"V27\", \"V28\", \"Amount\"]\n",
        "            \n",
        "x_temp = pd.get_dummies(data_train[features])\n",
        "x_temp"
      ],
      "metadata": {
        "colab": {
          "base_uri": "https://localhost:8080/",
          "height": 488
        },
        "id": "Qng2l-EP50_z",
        "outputId": "cf9ecf6b-02ed-4f92-fcfe-54eb4e375ab7"
      },
      "execution_count": 7,
      "outputs": [
        {
          "output_type": "execute_result",
          "data": {
            "text/plain": [
              "              V1        V2        V3        V4        V5        V6        V7  \\\n",
              "0       2.074329 -0.129425 -1.137418  0.412846 -0.192638 -1.210144  0.110697   \n",
              "1       1.998827 -1.250891 -0.520969 -0.894539 -1.122528 -0.270866 -1.029289   \n",
              "2       0.091535  1.004517 -0.223445 -0.435249  0.667548 -0.988351  0.948146   \n",
              "3       1.979649 -0.184949 -1.064206  0.120125 -0.215238 -0.648829 -0.087826   \n",
              "4       1.025898 -0.171827  1.203717  1.243900 -0.636572  1.099074 -0.938651   \n",
              "...          ...       ...       ...       ...       ...       ...       ...   \n",
              "219124  1.891079 -1.272908 -3.783908 -1.388939  2.012789  2.666080  0.151740   \n",
              "219125  0.139724  0.948649 -2.913655 -2.184829  1.883716 -1.056824  1.725624   \n",
              "219126  2.058343 -0.038993 -1.928553  0.330117  0.270127 -0.735664 -0.173878   \n",
              "219127  2.079227 -2.162389 -1.785833 -2.804889  0.552845  4.038013 -2.155900   \n",
              "219128 -0.431758  1.299171 -0.571602 -1.161499  1.141765 -1.258871  1.701553   \n",
              "\n",
              "              V8        V9       V10  ...       V20       V21       V22  \\\n",
              "0      -0.263477  0.742144  0.108782  ... -0.292969 -0.334701 -0.887840   \n",
              "1       0.050198 -0.109948  0.908773  ...  0.065717  0.054848 -0.038367   \n",
              "2      -0.084789 -0.042027 -0.818383  ... -0.021375 -0.326725 -0.803736   \n",
              "3      -0.035367  0.885838 -0.007527  ... -0.340089 -0.095514 -0.079792   \n",
              "4       0.569239  0.692665 -0.097495  ... -0.203628  0.099157  0.608908   \n",
              "...          ...       ...       ...  ...       ...       ...       ...   \n",
              "219124  0.401934 -1.102824  0.858158  ... -0.195703 -0.181369 -0.456538   \n",
              "219125  0.018089 -0.823494 -0.257933  ... -0.116538  0.491469  1.478823   \n",
              "219126  0.144823  0.849289 -0.136498  ... -0.384830 -0.306640 -0.965783   \n",
              "219127  1.023785 -0.865242  1.536193  ... -0.190984  0.109909  0.590401   \n",
              "219128 -0.454580 -0.556978 -0.049454  ...  0.058133  0.225629  0.988442   \n",
              "\n",
              "             V23       V24       V25       V26       V27       V28  Amount  \n",
              "0       0.336701 -0.110835 -0.291459  0.207733 -0.076576 -0.059577    1.98  \n",
              "1       0.133518 -0.461928 -0.465491 -0.464655 -0.009413 -0.038238   84.00  \n",
              "2       0.154495  0.951233 -0.506919  0.085046  0.224458  0.087356    2.69  \n",
              "3       0.167701 -0.042939  0.000799 -0.096148 -0.057780 -0.073839    1.00  \n",
              "4       0.027901 -0.262813  0.257834 -0.252829  0.108338  0.021051    1.00  \n",
              "...          ...       ...       ...       ...       ...       ...     ...  \n",
              "219124 -0.069571  0.756765  0.244479 -0.147566 -0.054725 -0.044588  198.65  \n",
              "219125 -0.085398 -0.091409 -1.053488  0.467570  0.358918  0.294735   24.00  \n",
              "219126  0.307799 -0.021434 -0.343989  0.181065 -0.098387 -0.044064    1.79  \n",
              "219127  0.286621  0.675660 -0.510736 -0.090044  0.056749 -0.017126   88.00  \n",
              "219128 -0.224609  0.082977 -0.335529  0.042237  0.304965  0.240049    3.78  \n",
              "\n",
              "[219129 rows x 29 columns]"
            ],
            "text/html": [
              "\n",
              "  <div id=\"df-e38a1cce-41c6-4b98-90c0-2aa083ed40a8\">\n",
              "    <div class=\"colab-df-container\">\n",
              "      <div>\n",
              "<style scoped>\n",
              "    .dataframe tbody tr th:only-of-type {\n",
              "        vertical-align: middle;\n",
              "    }\n",
              "\n",
              "    .dataframe tbody tr th {\n",
              "        vertical-align: top;\n",
              "    }\n",
              "\n",
              "    .dataframe thead th {\n",
              "        text-align: right;\n",
              "    }\n",
              "</style>\n",
              "<table border=\"1\" class=\"dataframe\">\n",
              "  <thead>\n",
              "    <tr style=\"text-align: right;\">\n",
              "      <th></th>\n",
              "      <th>V1</th>\n",
              "      <th>V2</th>\n",
              "      <th>V3</th>\n",
              "      <th>V4</th>\n",
              "      <th>V5</th>\n",
              "      <th>V6</th>\n",
              "      <th>V7</th>\n",
              "      <th>V8</th>\n",
              "      <th>V9</th>\n",
              "      <th>V10</th>\n",
              "      <th>...</th>\n",
              "      <th>V20</th>\n",
              "      <th>V21</th>\n",
              "      <th>V22</th>\n",
              "      <th>V23</th>\n",
              "      <th>V24</th>\n",
              "      <th>V25</th>\n",
              "      <th>V26</th>\n",
              "      <th>V27</th>\n",
              "      <th>V28</th>\n",
              "      <th>Amount</th>\n",
              "    </tr>\n",
              "  </thead>\n",
              "  <tbody>\n",
              "    <tr>\n",
              "      <th>0</th>\n",
              "      <td>2.074329</td>\n",
              "      <td>-0.129425</td>\n",
              "      <td>-1.137418</td>\n",
              "      <td>0.412846</td>\n",
              "      <td>-0.192638</td>\n",
              "      <td>-1.210144</td>\n",
              "      <td>0.110697</td>\n",
              "      <td>-0.263477</td>\n",
              "      <td>0.742144</td>\n",
              "      <td>0.108782</td>\n",
              "      <td>...</td>\n",
              "      <td>-0.292969</td>\n",
              "      <td>-0.334701</td>\n",
              "      <td>-0.887840</td>\n",
              "      <td>0.336701</td>\n",
              "      <td>-0.110835</td>\n",
              "      <td>-0.291459</td>\n",
              "      <td>0.207733</td>\n",
              "      <td>-0.076576</td>\n",
              "      <td>-0.059577</td>\n",
              "      <td>1.98</td>\n",
              "    </tr>\n",
              "    <tr>\n",
              "      <th>1</th>\n",
              "      <td>1.998827</td>\n",
              "      <td>-1.250891</td>\n",
              "      <td>-0.520969</td>\n",
              "      <td>-0.894539</td>\n",
              "      <td>-1.122528</td>\n",
              "      <td>-0.270866</td>\n",
              "      <td>-1.029289</td>\n",
              "      <td>0.050198</td>\n",
              "      <td>-0.109948</td>\n",
              "      <td>0.908773</td>\n",
              "      <td>...</td>\n",
              "      <td>0.065717</td>\n",
              "      <td>0.054848</td>\n",
              "      <td>-0.038367</td>\n",
              "      <td>0.133518</td>\n",
              "      <td>-0.461928</td>\n",
              "      <td>-0.465491</td>\n",
              "      <td>-0.464655</td>\n",
              "      <td>-0.009413</td>\n",
              "      <td>-0.038238</td>\n",
              "      <td>84.00</td>\n",
              "    </tr>\n",
              "    <tr>\n",
              "      <th>2</th>\n",
              "      <td>0.091535</td>\n",
              "      <td>1.004517</td>\n",
              "      <td>-0.223445</td>\n",
              "      <td>-0.435249</td>\n",
              "      <td>0.667548</td>\n",
              "      <td>-0.988351</td>\n",
              "      <td>0.948146</td>\n",
              "      <td>-0.084789</td>\n",
              "      <td>-0.042027</td>\n",
              "      <td>-0.818383</td>\n",
              "      <td>...</td>\n",
              "      <td>-0.021375</td>\n",
              "      <td>-0.326725</td>\n",
              "      <td>-0.803736</td>\n",
              "      <td>0.154495</td>\n",
              "      <td>0.951233</td>\n",
              "      <td>-0.506919</td>\n",
              "      <td>0.085046</td>\n",
              "      <td>0.224458</td>\n",
              "      <td>0.087356</td>\n",
              "      <td>2.69</td>\n",
              "    </tr>\n",
              "    <tr>\n",
              "      <th>3</th>\n",
              "      <td>1.979649</td>\n",
              "      <td>-0.184949</td>\n",
              "      <td>-1.064206</td>\n",
              "      <td>0.120125</td>\n",
              "      <td>-0.215238</td>\n",
              "      <td>-0.648829</td>\n",
              "      <td>-0.087826</td>\n",
              "      <td>-0.035367</td>\n",
              "      <td>0.885838</td>\n",
              "      <td>-0.007527</td>\n",
              "      <td>...</td>\n",
              "      <td>-0.340089</td>\n",
              "      <td>-0.095514</td>\n",
              "      <td>-0.079792</td>\n",
              "      <td>0.167701</td>\n",
              "      <td>-0.042939</td>\n",
              "      <td>0.000799</td>\n",
              "      <td>-0.096148</td>\n",
              "      <td>-0.057780</td>\n",
              "      <td>-0.073839</td>\n",
              "      <td>1.00</td>\n",
              "    </tr>\n",
              "    <tr>\n",
              "      <th>4</th>\n",
              "      <td>1.025898</td>\n",
              "      <td>-0.171827</td>\n",
              "      <td>1.203717</td>\n",
              "      <td>1.243900</td>\n",
              "      <td>-0.636572</td>\n",
              "      <td>1.099074</td>\n",
              "      <td>-0.938651</td>\n",
              "      <td>0.569239</td>\n",
              "      <td>0.692665</td>\n",
              "      <td>-0.097495</td>\n",
              "      <td>...</td>\n",
              "      <td>-0.203628</td>\n",
              "      <td>0.099157</td>\n",
              "      <td>0.608908</td>\n",
              "      <td>0.027901</td>\n",
              "      <td>-0.262813</td>\n",
              "      <td>0.257834</td>\n",
              "      <td>-0.252829</td>\n",
              "      <td>0.108338</td>\n",
              "      <td>0.021051</td>\n",
              "      <td>1.00</td>\n",
              "    </tr>\n",
              "    <tr>\n",
              "      <th>...</th>\n",
              "      <td>...</td>\n",
              "      <td>...</td>\n",
              "      <td>...</td>\n",
              "      <td>...</td>\n",
              "      <td>...</td>\n",
              "      <td>...</td>\n",
              "      <td>...</td>\n",
              "      <td>...</td>\n",
              "      <td>...</td>\n",
              "      <td>...</td>\n",
              "      <td>...</td>\n",
              "      <td>...</td>\n",
              "      <td>...</td>\n",
              "      <td>...</td>\n",
              "      <td>...</td>\n",
              "      <td>...</td>\n",
              "      <td>...</td>\n",
              "      <td>...</td>\n",
              "      <td>...</td>\n",
              "      <td>...</td>\n",
              "      <td>...</td>\n",
              "    </tr>\n",
              "    <tr>\n",
              "      <th>219124</th>\n",
              "      <td>1.891079</td>\n",
              "      <td>-1.272908</td>\n",
              "      <td>-3.783908</td>\n",
              "      <td>-1.388939</td>\n",
              "      <td>2.012789</td>\n",
              "      <td>2.666080</td>\n",
              "      <td>0.151740</td>\n",
              "      <td>0.401934</td>\n",
              "      <td>-1.102824</td>\n",
              "      <td>0.858158</td>\n",
              "      <td>...</td>\n",
              "      <td>-0.195703</td>\n",
              "      <td>-0.181369</td>\n",
              "      <td>-0.456538</td>\n",
              "      <td>-0.069571</td>\n",
              "      <td>0.756765</td>\n",
              "      <td>0.244479</td>\n",
              "      <td>-0.147566</td>\n",
              "      <td>-0.054725</td>\n",
              "      <td>-0.044588</td>\n",
              "      <td>198.65</td>\n",
              "    </tr>\n",
              "    <tr>\n",
              "      <th>219125</th>\n",
              "      <td>0.139724</td>\n",
              "      <td>0.948649</td>\n",
              "      <td>-2.913655</td>\n",
              "      <td>-2.184829</td>\n",
              "      <td>1.883716</td>\n",
              "      <td>-1.056824</td>\n",
              "      <td>1.725624</td>\n",
              "      <td>0.018089</td>\n",
              "      <td>-0.823494</td>\n",
              "      <td>-0.257933</td>\n",
              "      <td>...</td>\n",
              "      <td>-0.116538</td>\n",
              "      <td>0.491469</td>\n",
              "      <td>1.478823</td>\n",
              "      <td>-0.085398</td>\n",
              "      <td>-0.091409</td>\n",
              "      <td>-1.053488</td>\n",
              "      <td>0.467570</td>\n",
              "      <td>0.358918</td>\n",
              "      <td>0.294735</td>\n",
              "      <td>24.00</td>\n",
              "    </tr>\n",
              "    <tr>\n",
              "      <th>219126</th>\n",
              "      <td>2.058343</td>\n",
              "      <td>-0.038993</td>\n",
              "      <td>-1.928553</td>\n",
              "      <td>0.330117</td>\n",
              "      <td>0.270127</td>\n",
              "      <td>-0.735664</td>\n",
              "      <td>-0.173878</td>\n",
              "      <td>0.144823</td>\n",
              "      <td>0.849289</td>\n",
              "      <td>-0.136498</td>\n",
              "      <td>...</td>\n",
              "      <td>-0.384830</td>\n",
              "      <td>-0.306640</td>\n",
              "      <td>-0.965783</td>\n",
              "      <td>0.307799</td>\n",
              "      <td>-0.021434</td>\n",
              "      <td>-0.343989</td>\n",
              "      <td>0.181065</td>\n",
              "      <td>-0.098387</td>\n",
              "      <td>-0.044064</td>\n",
              "      <td>1.79</td>\n",
              "    </tr>\n",
              "    <tr>\n",
              "      <th>219127</th>\n",
              "      <td>2.079227</td>\n",
              "      <td>-2.162389</td>\n",
              "      <td>-1.785833</td>\n",
              "      <td>-2.804889</td>\n",
              "      <td>0.552845</td>\n",
              "      <td>4.038013</td>\n",
              "      <td>-2.155900</td>\n",
              "      <td>1.023785</td>\n",
              "      <td>-0.865242</td>\n",
              "      <td>1.536193</td>\n",
              "      <td>...</td>\n",
              "      <td>-0.190984</td>\n",
              "      <td>0.109909</td>\n",
              "      <td>0.590401</td>\n",
              "      <td>0.286621</td>\n",
              "      <td>0.675660</td>\n",
              "      <td>-0.510736</td>\n",
              "      <td>-0.090044</td>\n",
              "      <td>0.056749</td>\n",
              "      <td>-0.017126</td>\n",
              "      <td>88.00</td>\n",
              "    </tr>\n",
              "    <tr>\n",
              "      <th>219128</th>\n",
              "      <td>-0.431758</td>\n",
              "      <td>1.299171</td>\n",
              "      <td>-0.571602</td>\n",
              "      <td>-1.161499</td>\n",
              "      <td>1.141765</td>\n",
              "      <td>-1.258871</td>\n",
              "      <td>1.701553</td>\n",
              "      <td>-0.454580</td>\n",
              "      <td>-0.556978</td>\n",
              "      <td>-0.049454</td>\n",
              "      <td>...</td>\n",
              "      <td>0.058133</td>\n",
              "      <td>0.225629</td>\n",
              "      <td>0.988442</td>\n",
              "      <td>-0.224609</td>\n",
              "      <td>0.082977</td>\n",
              "      <td>-0.335529</td>\n",
              "      <td>0.042237</td>\n",
              "      <td>0.304965</td>\n",
              "      <td>0.240049</td>\n",
              "      <td>3.78</td>\n",
              "    </tr>\n",
              "  </tbody>\n",
              "</table>\n",
              "<p>219129 rows × 29 columns</p>\n",
              "</div>\n",
              "      <button class=\"colab-df-convert\" onclick=\"convertToInteractive('df-e38a1cce-41c6-4b98-90c0-2aa083ed40a8')\"\n",
              "              title=\"Convert this dataframe to an interactive table.\"\n",
              "              style=\"display:none;\">\n",
              "        \n",
              "  <svg xmlns=\"http://www.w3.org/2000/svg\" height=\"24px\"viewBox=\"0 0 24 24\"\n",
              "       width=\"24px\">\n",
              "    <path d=\"M0 0h24v24H0V0z\" fill=\"none\"/>\n",
              "    <path d=\"M18.56 5.44l.94 2.06.94-2.06 2.06-.94-2.06-.94-.94-2.06-.94 2.06-2.06.94zm-11 1L8.5 8.5l.94-2.06 2.06-.94-2.06-.94L8.5 2.5l-.94 2.06-2.06.94zm10 10l.94 2.06.94-2.06 2.06-.94-2.06-.94-.94-2.06-.94 2.06-2.06.94z\"/><path d=\"M17.41 7.96l-1.37-1.37c-.4-.4-.92-.59-1.43-.59-.52 0-1.04.2-1.43.59L10.3 9.45l-7.72 7.72c-.78.78-.78 2.05 0 2.83L4 21.41c.39.39.9.59 1.41.59.51 0 1.02-.2 1.41-.59l7.78-7.78 2.81-2.81c.8-.78.8-2.07 0-2.86zM5.41 20L4 18.59l7.72-7.72 1.47 1.35L5.41 20z\"/>\n",
              "  </svg>\n",
              "      </button>\n",
              "      \n",
              "  <style>\n",
              "    .colab-df-container {\n",
              "      display:flex;\n",
              "      flex-wrap:wrap;\n",
              "      gap: 12px;\n",
              "    }\n",
              "\n",
              "    .colab-df-convert {\n",
              "      background-color: #E8F0FE;\n",
              "      border: none;\n",
              "      border-radius: 50%;\n",
              "      cursor: pointer;\n",
              "      display: none;\n",
              "      fill: #1967D2;\n",
              "      height: 32px;\n",
              "      padding: 0 0 0 0;\n",
              "      width: 32px;\n",
              "    }\n",
              "\n",
              "    .colab-df-convert:hover {\n",
              "      background-color: #E2EBFA;\n",
              "      box-shadow: 0px 1px 2px rgba(60, 64, 67, 0.3), 0px 1px 3px 1px rgba(60, 64, 67, 0.15);\n",
              "      fill: #174EA6;\n",
              "    }\n",
              "\n",
              "    [theme=dark] .colab-df-convert {\n",
              "      background-color: #3B4455;\n",
              "      fill: #D2E3FC;\n",
              "    }\n",
              "\n",
              "    [theme=dark] .colab-df-convert:hover {\n",
              "      background-color: #434B5C;\n",
              "      box-shadow: 0px 1px 3px 1px rgba(0, 0, 0, 0.15);\n",
              "      filter: drop-shadow(0px 1px 2px rgba(0, 0, 0, 0.3));\n",
              "      fill: #FFFFFF;\n",
              "    }\n",
              "  </style>\n",
              "\n",
              "      <script>\n",
              "        const buttonEl =\n",
              "          document.querySelector('#df-e38a1cce-41c6-4b98-90c0-2aa083ed40a8 button.colab-df-convert');\n",
              "        buttonEl.style.display =\n",
              "          google.colab.kernel.accessAllowed ? 'block' : 'none';\n",
              "\n",
              "        async function convertToInteractive(key) {\n",
              "          const element = document.querySelector('#df-e38a1cce-41c6-4b98-90c0-2aa083ed40a8');\n",
              "          const dataTable =\n",
              "            await google.colab.kernel.invokeFunction('convertToInteractive',\n",
              "                                                     [key], {});\n",
              "          if (!dataTable) return;\n",
              "\n",
              "          const docLinkHtml = 'Like what you see? Visit the ' +\n",
              "            '<a target=\"_blank\" href=https://colab.research.google.com/notebooks/data_table.ipynb>data table notebook</a>'\n",
              "            + ' to learn more about interactive tables.';\n",
              "          element.innerHTML = '';\n",
              "          dataTable['output_type'] = 'display_data';\n",
              "          await google.colab.output.renderOutput(dataTable, element);\n",
              "          const docLink = document.createElement('div');\n",
              "          docLink.innerHTML = docLinkHtml;\n",
              "          element.appendChild(docLink);\n",
              "        }\n",
              "      </script>\n",
              "    </div>\n",
              "  </div>\n",
              "  "
            ]
          },
          "metadata": {},
          "execution_count": 7
        }
      ]
    },
    {
      "cell_type": "markdown",
      "source": [
        "Filtra as labels"
      ],
      "metadata": {
        "id": "czjCH_pVPINe"
      }
    },
    {
      "cell_type": "code",
      "source": [
        "y_temp=data_train.iloc[:,31].values\n",
        "y_temp"
      ],
      "metadata": {
        "colab": {
          "base_uri": "https://localhost:8080/"
        },
        "id": "hBGS79xMiFUX",
        "outputId": "02ce0b24-a62d-491b-8a7d-b87db0cce54d"
      },
      "execution_count": 8,
      "outputs": [
        {
          "output_type": "execute_result",
          "data": {
            "text/plain": [
              "array([0, 0, 0, ..., 0, 0, 0])"
            ]
          },
          "metadata": {},
          "execution_count": 8
        }
      ]
    },
    {
      "cell_type": "markdown",
      "source": [
        "Divide os dados em 20% para testes e 80%para treinamento"
      ],
      "metadata": {
        "id": "UX-JlRBXPK0H"
      }
    },
    {
      "cell_type": "code",
      "source": [
        "x_train,x_test,y_train,y_test=train_test_split(x_temp, y_temp,\n",
        "test_size=0.2, random_state=84)"
      ],
      "metadata": {
        "id": "iuShZGwThunJ"
      },
      "execution_count": 9,
      "outputs": []
    },
    {
      "cell_type": "markdown",
      "source": [
        "Normaliza os dados"
      ],
      "metadata": {
        "id": "nC0VyX-JlU_6"
      }
    },
    {
      "cell_type": "code",
      "source": [
        "scaler = MinMaxScaler()\n",
        "normalized_data_train = scaler.fit_transform(x_train)\n",
        "normalized_data_train = pd.DataFrame(normalized_data_train, columns=x_temp.columns)\n",
        "normalized_data_train"
      ],
      "metadata": {
        "colab": {
          "base_uri": "https://localhost:8080/",
          "height": 488
        },
        "id": "JNfwHviT4Mq6",
        "outputId": "51d6b8da-8d62-48d7-8df3-2776e3f26349"
      },
      "execution_count": 10,
      "outputs": [
        {
          "output_type": "execute_result",
          "data": {
            "text/plain": [
              "              V1        V2        V3        V4        V5        V6        V7  \\\n",
              "0       0.890677  0.746096  0.841923  0.461288  0.541563  0.628071  0.444854   \n",
              "1       0.880534  0.744868  0.842847  0.254074  0.506453  0.601618  0.431150   \n",
              "2       0.917708  0.706246  0.781603  0.174080  0.516556  0.601711  0.438355   \n",
              "3       0.933928  0.747087  0.725705  0.252001  0.537213  0.613879  0.451021   \n",
              "4       0.884112  0.724520  0.819335  0.185491  0.521364  0.608044  0.448815   \n",
              "...          ...       ...       ...       ...       ...       ...       ...   \n",
              "175298  0.891069  0.746639  0.799743  0.150953  0.515541  0.569685  0.448060   \n",
              "175299  0.917267  0.751250  0.822499  0.467107  0.525464  0.610840  0.447924   \n",
              "175300  0.957553  0.723775  0.806724  0.311178  0.505164  0.603610  0.430330   \n",
              "175301  0.953633  0.724109  0.822024  0.383620  0.504350  0.629782  0.425843   \n",
              "175302  0.905785  0.715407  0.785960  0.090993  0.528958  0.697697  0.420862   \n",
              "\n",
              "              V8        V9       V10  ...       V20       V21       V22  \\\n",
              "0       0.614781  0.332981  0.610477  ...  0.546726  0.402687  0.642733   \n",
              "1       0.628953  0.407054  0.545930  ...  0.548450  0.400181  0.595668   \n",
              "2       0.609469  0.318206  0.600974  ...  0.554023  0.404969  0.639855   \n",
              "3       0.613176  0.397734  0.560704  ...  0.545507  0.397375  0.575712   \n",
              "4       0.604420  0.323946  0.597223  ...  0.547098  0.398347  0.587758   \n",
              "...          ...       ...       ...  ...       ...       ...       ...   \n",
              "175298  0.614879  0.425448  0.535386  ...  0.549931  0.397928  0.580227   \n",
              "175299  0.610924  0.312398  0.608006  ...  0.552144  0.399735  0.596793   \n",
              "175300  0.612087  0.545133  0.540537  ...  0.547612  0.392571  0.572678   \n",
              "175301  0.618922  0.464290  0.571693  ...  0.550185  0.403035  0.604908   \n",
              "175302  0.632143  0.305014  0.602834  ...  0.544231  0.397912  0.586882   \n",
              "\n",
              "             V23       V24       V25       V26       V27       V28    Amount  \n",
              "0       0.474391  0.392627  0.573079  0.355682  0.416090  0.159799  0.000000  \n",
              "1       0.479395  0.444435  0.576137  0.536512  0.420229  0.165534  0.000314  \n",
              "2       0.491538  0.465096  0.593863  0.345267  0.409282  0.161357  0.024080  \n",
              "3       0.478021  0.320349  0.553524  0.447328  0.412549  0.163219  0.001070  \n",
              "4       0.477129  0.338253  0.641921  0.337257  0.405365  0.161315  0.016040  \n",
              "...          ...       ...       ...       ...       ...       ...       ...  \n",
              "175298  0.484443  0.482646  0.553982  0.272731  0.425358  0.170143  0.001513  \n",
              "175299  0.483339  0.434908  0.485341  0.399582  0.408277  0.158484  0.000199  \n",
              "175300  0.481549  0.435022  0.639990  0.241618  0.415966  0.164983  0.010178  \n",
              "175301  0.478108  0.377705  0.618443  0.309964  0.417364  0.165533  0.013244  \n",
              "175302  0.482086  0.515467  0.586166  0.336934  0.416874  0.167048  0.002943  \n",
              "\n",
              "[175303 rows x 29 columns]"
            ],
            "text/html": [
              "\n",
              "  <div id=\"df-712ee61e-2ecf-4e68-ac16-6745fb3981ed\">\n",
              "    <div class=\"colab-df-container\">\n",
              "      <div>\n",
              "<style scoped>\n",
              "    .dataframe tbody tr th:only-of-type {\n",
              "        vertical-align: middle;\n",
              "    }\n",
              "\n",
              "    .dataframe tbody tr th {\n",
              "        vertical-align: top;\n",
              "    }\n",
              "\n",
              "    .dataframe thead th {\n",
              "        text-align: right;\n",
              "    }\n",
              "</style>\n",
              "<table border=\"1\" class=\"dataframe\">\n",
              "  <thead>\n",
              "    <tr style=\"text-align: right;\">\n",
              "      <th></th>\n",
              "      <th>V1</th>\n",
              "      <th>V2</th>\n",
              "      <th>V3</th>\n",
              "      <th>V4</th>\n",
              "      <th>V5</th>\n",
              "      <th>V6</th>\n",
              "      <th>V7</th>\n",
              "      <th>V8</th>\n",
              "      <th>V9</th>\n",
              "      <th>V10</th>\n",
              "      <th>...</th>\n",
              "      <th>V20</th>\n",
              "      <th>V21</th>\n",
              "      <th>V22</th>\n",
              "      <th>V23</th>\n",
              "      <th>V24</th>\n",
              "      <th>V25</th>\n",
              "      <th>V26</th>\n",
              "      <th>V27</th>\n",
              "      <th>V28</th>\n",
              "      <th>Amount</th>\n",
              "    </tr>\n",
              "  </thead>\n",
              "  <tbody>\n",
              "    <tr>\n",
              "      <th>0</th>\n",
              "      <td>0.890677</td>\n",
              "      <td>0.746096</td>\n",
              "      <td>0.841923</td>\n",
              "      <td>0.461288</td>\n",
              "      <td>0.541563</td>\n",
              "      <td>0.628071</td>\n",
              "      <td>0.444854</td>\n",
              "      <td>0.614781</td>\n",
              "      <td>0.332981</td>\n",
              "      <td>0.610477</td>\n",
              "      <td>...</td>\n",
              "      <td>0.546726</td>\n",
              "      <td>0.402687</td>\n",
              "      <td>0.642733</td>\n",
              "      <td>0.474391</td>\n",
              "      <td>0.392627</td>\n",
              "      <td>0.573079</td>\n",
              "      <td>0.355682</td>\n",
              "      <td>0.416090</td>\n",
              "      <td>0.159799</td>\n",
              "      <td>0.000000</td>\n",
              "    </tr>\n",
              "    <tr>\n",
              "      <th>1</th>\n",
              "      <td>0.880534</td>\n",
              "      <td>0.744868</td>\n",
              "      <td>0.842847</td>\n",
              "      <td>0.254074</td>\n",
              "      <td>0.506453</td>\n",
              "      <td>0.601618</td>\n",
              "      <td>0.431150</td>\n",
              "      <td>0.628953</td>\n",
              "      <td>0.407054</td>\n",
              "      <td>0.545930</td>\n",
              "      <td>...</td>\n",
              "      <td>0.548450</td>\n",
              "      <td>0.400181</td>\n",
              "      <td>0.595668</td>\n",
              "      <td>0.479395</td>\n",
              "      <td>0.444435</td>\n",
              "      <td>0.576137</td>\n",
              "      <td>0.536512</td>\n",
              "      <td>0.420229</td>\n",
              "      <td>0.165534</td>\n",
              "      <td>0.000314</td>\n",
              "    </tr>\n",
              "    <tr>\n",
              "      <th>2</th>\n",
              "      <td>0.917708</td>\n",
              "      <td>0.706246</td>\n",
              "      <td>0.781603</td>\n",
              "      <td>0.174080</td>\n",
              "      <td>0.516556</td>\n",
              "      <td>0.601711</td>\n",
              "      <td>0.438355</td>\n",
              "      <td>0.609469</td>\n",
              "      <td>0.318206</td>\n",
              "      <td>0.600974</td>\n",
              "      <td>...</td>\n",
              "      <td>0.554023</td>\n",
              "      <td>0.404969</td>\n",
              "      <td>0.639855</td>\n",
              "      <td>0.491538</td>\n",
              "      <td>0.465096</td>\n",
              "      <td>0.593863</td>\n",
              "      <td>0.345267</td>\n",
              "      <td>0.409282</td>\n",
              "      <td>0.161357</td>\n",
              "      <td>0.024080</td>\n",
              "    </tr>\n",
              "    <tr>\n",
              "      <th>3</th>\n",
              "      <td>0.933928</td>\n",
              "      <td>0.747087</td>\n",
              "      <td>0.725705</td>\n",
              "      <td>0.252001</td>\n",
              "      <td>0.537213</td>\n",
              "      <td>0.613879</td>\n",
              "      <td>0.451021</td>\n",
              "      <td>0.613176</td>\n",
              "      <td>0.397734</td>\n",
              "      <td>0.560704</td>\n",
              "      <td>...</td>\n",
              "      <td>0.545507</td>\n",
              "      <td>0.397375</td>\n",
              "      <td>0.575712</td>\n",
              "      <td>0.478021</td>\n",
              "      <td>0.320349</td>\n",
              "      <td>0.553524</td>\n",
              "      <td>0.447328</td>\n",
              "      <td>0.412549</td>\n",
              "      <td>0.163219</td>\n",
              "      <td>0.001070</td>\n",
              "    </tr>\n",
              "    <tr>\n",
              "      <th>4</th>\n",
              "      <td>0.884112</td>\n",
              "      <td>0.724520</td>\n",
              "      <td>0.819335</td>\n",
              "      <td>0.185491</td>\n",
              "      <td>0.521364</td>\n",
              "      <td>0.608044</td>\n",
              "      <td>0.448815</td>\n",
              "      <td>0.604420</td>\n",
              "      <td>0.323946</td>\n",
              "      <td>0.597223</td>\n",
              "      <td>...</td>\n",
              "      <td>0.547098</td>\n",
              "      <td>0.398347</td>\n",
              "      <td>0.587758</td>\n",
              "      <td>0.477129</td>\n",
              "      <td>0.338253</td>\n",
              "      <td>0.641921</td>\n",
              "      <td>0.337257</td>\n",
              "      <td>0.405365</td>\n",
              "      <td>0.161315</td>\n",
              "      <td>0.016040</td>\n",
              "    </tr>\n",
              "    <tr>\n",
              "      <th>...</th>\n",
              "      <td>...</td>\n",
              "      <td>...</td>\n",
              "      <td>...</td>\n",
              "      <td>...</td>\n",
              "      <td>...</td>\n",
              "      <td>...</td>\n",
              "      <td>...</td>\n",
              "      <td>...</td>\n",
              "      <td>...</td>\n",
              "      <td>...</td>\n",
              "      <td>...</td>\n",
              "      <td>...</td>\n",
              "      <td>...</td>\n",
              "      <td>...</td>\n",
              "      <td>...</td>\n",
              "      <td>...</td>\n",
              "      <td>...</td>\n",
              "      <td>...</td>\n",
              "      <td>...</td>\n",
              "      <td>...</td>\n",
              "      <td>...</td>\n",
              "    </tr>\n",
              "    <tr>\n",
              "      <th>175298</th>\n",
              "      <td>0.891069</td>\n",
              "      <td>0.746639</td>\n",
              "      <td>0.799743</td>\n",
              "      <td>0.150953</td>\n",
              "      <td>0.515541</td>\n",
              "      <td>0.569685</td>\n",
              "      <td>0.448060</td>\n",
              "      <td>0.614879</td>\n",
              "      <td>0.425448</td>\n",
              "      <td>0.535386</td>\n",
              "      <td>...</td>\n",
              "      <td>0.549931</td>\n",
              "      <td>0.397928</td>\n",
              "      <td>0.580227</td>\n",
              "      <td>0.484443</td>\n",
              "      <td>0.482646</td>\n",
              "      <td>0.553982</td>\n",
              "      <td>0.272731</td>\n",
              "      <td>0.425358</td>\n",
              "      <td>0.170143</td>\n",
              "      <td>0.001513</td>\n",
              "    </tr>\n",
              "    <tr>\n",
              "      <th>175299</th>\n",
              "      <td>0.917267</td>\n",
              "      <td>0.751250</td>\n",
              "      <td>0.822499</td>\n",
              "      <td>0.467107</td>\n",
              "      <td>0.525464</td>\n",
              "      <td>0.610840</td>\n",
              "      <td>0.447924</td>\n",
              "      <td>0.610924</td>\n",
              "      <td>0.312398</td>\n",
              "      <td>0.608006</td>\n",
              "      <td>...</td>\n",
              "      <td>0.552144</td>\n",
              "      <td>0.399735</td>\n",
              "      <td>0.596793</td>\n",
              "      <td>0.483339</td>\n",
              "      <td>0.434908</td>\n",
              "      <td>0.485341</td>\n",
              "      <td>0.399582</td>\n",
              "      <td>0.408277</td>\n",
              "      <td>0.158484</td>\n",
              "      <td>0.000199</td>\n",
              "    </tr>\n",
              "    <tr>\n",
              "      <th>175300</th>\n",
              "      <td>0.957553</td>\n",
              "      <td>0.723775</td>\n",
              "      <td>0.806724</td>\n",
              "      <td>0.311178</td>\n",
              "      <td>0.505164</td>\n",
              "      <td>0.603610</td>\n",
              "      <td>0.430330</td>\n",
              "      <td>0.612087</td>\n",
              "      <td>0.545133</td>\n",
              "      <td>0.540537</td>\n",
              "      <td>...</td>\n",
              "      <td>0.547612</td>\n",
              "      <td>0.392571</td>\n",
              "      <td>0.572678</td>\n",
              "      <td>0.481549</td>\n",
              "      <td>0.435022</td>\n",
              "      <td>0.639990</td>\n",
              "      <td>0.241618</td>\n",
              "      <td>0.415966</td>\n",
              "      <td>0.164983</td>\n",
              "      <td>0.010178</td>\n",
              "    </tr>\n",
              "    <tr>\n",
              "      <th>175301</th>\n",
              "      <td>0.953633</td>\n",
              "      <td>0.724109</td>\n",
              "      <td>0.822024</td>\n",
              "      <td>0.383620</td>\n",
              "      <td>0.504350</td>\n",
              "      <td>0.629782</td>\n",
              "      <td>0.425843</td>\n",
              "      <td>0.618922</td>\n",
              "      <td>0.464290</td>\n",
              "      <td>0.571693</td>\n",
              "      <td>...</td>\n",
              "      <td>0.550185</td>\n",
              "      <td>0.403035</td>\n",
              "      <td>0.604908</td>\n",
              "      <td>0.478108</td>\n",
              "      <td>0.377705</td>\n",
              "      <td>0.618443</td>\n",
              "      <td>0.309964</td>\n",
              "      <td>0.417364</td>\n",
              "      <td>0.165533</td>\n",
              "      <td>0.013244</td>\n",
              "    </tr>\n",
              "    <tr>\n",
              "      <th>175302</th>\n",
              "      <td>0.905785</td>\n",
              "      <td>0.715407</td>\n",
              "      <td>0.785960</td>\n",
              "      <td>0.090993</td>\n",
              "      <td>0.528958</td>\n",
              "      <td>0.697697</td>\n",
              "      <td>0.420862</td>\n",
              "      <td>0.632143</td>\n",
              "      <td>0.305014</td>\n",
              "      <td>0.602834</td>\n",
              "      <td>...</td>\n",
              "      <td>0.544231</td>\n",
              "      <td>0.397912</td>\n",
              "      <td>0.586882</td>\n",
              "      <td>0.482086</td>\n",
              "      <td>0.515467</td>\n",
              "      <td>0.586166</td>\n",
              "      <td>0.336934</td>\n",
              "      <td>0.416874</td>\n",
              "      <td>0.167048</td>\n",
              "      <td>0.002943</td>\n",
              "    </tr>\n",
              "  </tbody>\n",
              "</table>\n",
              "<p>175303 rows × 29 columns</p>\n",
              "</div>\n",
              "      <button class=\"colab-df-convert\" onclick=\"convertToInteractive('df-712ee61e-2ecf-4e68-ac16-6745fb3981ed')\"\n",
              "              title=\"Convert this dataframe to an interactive table.\"\n",
              "              style=\"display:none;\">\n",
              "        \n",
              "  <svg xmlns=\"http://www.w3.org/2000/svg\" height=\"24px\"viewBox=\"0 0 24 24\"\n",
              "       width=\"24px\">\n",
              "    <path d=\"M0 0h24v24H0V0z\" fill=\"none\"/>\n",
              "    <path d=\"M18.56 5.44l.94 2.06.94-2.06 2.06-.94-2.06-.94-.94-2.06-.94 2.06-2.06.94zm-11 1L8.5 8.5l.94-2.06 2.06-.94-2.06-.94L8.5 2.5l-.94 2.06-2.06.94zm10 10l.94 2.06.94-2.06 2.06-.94-2.06-.94-.94-2.06-.94 2.06-2.06.94z\"/><path d=\"M17.41 7.96l-1.37-1.37c-.4-.4-.92-.59-1.43-.59-.52 0-1.04.2-1.43.59L10.3 9.45l-7.72 7.72c-.78.78-.78 2.05 0 2.83L4 21.41c.39.39.9.59 1.41.59.51 0 1.02-.2 1.41-.59l7.78-7.78 2.81-2.81c.8-.78.8-2.07 0-2.86zM5.41 20L4 18.59l7.72-7.72 1.47 1.35L5.41 20z\"/>\n",
              "  </svg>\n",
              "      </button>\n",
              "      \n",
              "  <style>\n",
              "    .colab-df-container {\n",
              "      display:flex;\n",
              "      flex-wrap:wrap;\n",
              "      gap: 12px;\n",
              "    }\n",
              "\n",
              "    .colab-df-convert {\n",
              "      background-color: #E8F0FE;\n",
              "      border: none;\n",
              "      border-radius: 50%;\n",
              "      cursor: pointer;\n",
              "      display: none;\n",
              "      fill: #1967D2;\n",
              "      height: 32px;\n",
              "      padding: 0 0 0 0;\n",
              "      width: 32px;\n",
              "    }\n",
              "\n",
              "    .colab-df-convert:hover {\n",
              "      background-color: #E2EBFA;\n",
              "      box-shadow: 0px 1px 2px rgba(60, 64, 67, 0.3), 0px 1px 3px 1px rgba(60, 64, 67, 0.15);\n",
              "      fill: #174EA6;\n",
              "    }\n",
              "\n",
              "    [theme=dark] .colab-df-convert {\n",
              "      background-color: #3B4455;\n",
              "      fill: #D2E3FC;\n",
              "    }\n",
              "\n",
              "    [theme=dark] .colab-df-convert:hover {\n",
              "      background-color: #434B5C;\n",
              "      box-shadow: 0px 1px 3px 1px rgba(0, 0, 0, 0.15);\n",
              "      filter: drop-shadow(0px 1px 2px rgba(0, 0, 0, 0.3));\n",
              "      fill: #FFFFFF;\n",
              "    }\n",
              "  </style>\n",
              "\n",
              "      <script>\n",
              "        const buttonEl =\n",
              "          document.querySelector('#df-712ee61e-2ecf-4e68-ac16-6745fb3981ed button.colab-df-convert');\n",
              "        buttonEl.style.display =\n",
              "          google.colab.kernel.accessAllowed ? 'block' : 'none';\n",
              "\n",
              "        async function convertToInteractive(key) {\n",
              "          const element = document.querySelector('#df-712ee61e-2ecf-4e68-ac16-6745fb3981ed');\n",
              "          const dataTable =\n",
              "            await google.colab.kernel.invokeFunction('convertToInteractive',\n",
              "                                                     [key], {});\n",
              "          if (!dataTable) return;\n",
              "\n",
              "          const docLinkHtml = 'Like what you see? Visit the ' +\n",
              "            '<a target=\"_blank\" href=https://colab.research.google.com/notebooks/data_table.ipynb>data table notebook</a>'\n",
              "            + ' to learn more about interactive tables.';\n",
              "          element.innerHTML = '';\n",
              "          dataTable['output_type'] = 'display_data';\n",
              "          await google.colab.output.renderOutput(dataTable, element);\n",
              "          const docLink = document.createElement('div');\n",
              "          docLink.innerHTML = docLinkHtml;\n",
              "          element.appendChild(docLink);\n",
              "        }\n",
              "      </script>\n",
              "    </div>\n",
              "  </div>\n",
              "  "
            ]
          },
          "metadata": {},
          "execution_count": 10
        }
      ]
    },
    {
      "cell_type": "code",
      "source": [
        "normalized_data_test = scaler.transform(x_test)\n",
        "normalized_data_test = pd.DataFrame(normalized_data_test, columns=x_temp.columns)\n",
        "normalized_data_test"
      ],
      "metadata": {
        "colab": {
          "base_uri": "https://localhost:8080/",
          "height": 488
        },
        "id": "YcOJ4s6iiZdv",
        "outputId": "07b28199-efc4-4fa1-f746-c193cb63fcb7"
      },
      "execution_count": 11,
      "outputs": [
        {
          "output_type": "execute_result",
          "data": {
            "text/plain": [
              "             V1        V2        V3        V4        V5        V6        V7  \\\n",
              "0      0.886677  0.748403  0.829166  0.236486  0.525547  0.627349  0.444705   \n",
              "1      0.861331  0.769276  0.823576  0.292100  0.520049  0.614705  0.448617   \n",
              "2      0.898811  0.744121  0.838401  0.365143  0.524809  0.616625  0.442928   \n",
              "3      0.990986  0.717972  0.723042  0.247875  0.512953  0.610212  0.424850   \n",
              "4      0.964351  0.723156  0.760899  0.267570  0.506823  0.590781  0.429645   \n",
              "...         ...       ...       ...       ...       ...       ...       ...   \n",
              "43821  0.967895  0.717052  0.740328  0.197273  0.531780  0.701189  0.416688   \n",
              "43822  0.960302  0.727253  0.777503  0.272181  0.514673  0.604535  0.436231   \n",
              "43823  0.906218  0.754879  0.753826  0.335089  0.538639  0.586636  0.457047   \n",
              "43824  0.962559  0.721867  0.748252  0.244810  0.538529  0.705358  0.422157   \n",
              "43825  0.962540  0.740129  0.775420  0.347683  0.519648  0.604035  0.439432   \n",
              "\n",
              "             V8        V9       V10  ...       V20       V21       V22  \\\n",
              "0      0.623039  0.443743  0.552574  ...  0.539390  0.397353  0.592480   \n",
              "1      0.605747  0.459837  0.645032  ...  0.585078  0.387069  0.558326   \n",
              "2      0.619097  0.364700  0.585313  ...  0.557021  0.395153  0.565648   \n",
              "3      0.611151  0.442253  0.596220  ...  0.547810  0.408704  0.663318   \n",
              "4      0.610421  0.362903  0.589587  ...  0.553118  0.407389  0.635412   \n",
              "...         ...       ...       ...  ...       ...       ...       ...   \n",
              "43821  0.632173  0.384228  0.594911  ...  0.555109  0.406479  0.627820   \n",
              "43822  0.611355  0.434730  0.553999  ...  0.547603  0.400727  0.613531   \n",
              "43823  0.610459  0.350931  0.559426  ...  0.547938  0.404239  0.611280   \n",
              "43824  0.635127  0.442507  0.571022  ...  0.550770  0.393585  0.543984   \n",
              "43825  0.611758  0.383171  0.585408  ...  0.545180  0.401583  0.603311   \n",
              "\n",
              "            V23       V24       V25       V26       V27       V28    Amount  \n",
              "0      0.478461  0.337659  0.568868  0.538571  0.417393  0.165180  0.001338  \n",
              "1      0.478219  0.352858  0.568220  0.401898  0.419001  0.151136  0.000801  \n",
              "2      0.484287  0.410461  0.542513  0.274238  0.428821  0.169239  0.002847  \n",
              "3      0.484555  0.476076  0.576720  0.351423  0.410698  0.161401  0.004007  \n",
              "4      0.481902  0.428046  0.622521  0.330783  0.414374  0.165385  0.006019  \n",
              "...         ...       ...       ...       ...       ...       ...       ...  \n",
              "43821  0.476562  0.524620  0.657705  0.345467  0.414857  0.164315  0.004007  \n",
              "43822  0.478548  0.416099  0.607079  0.690085  0.408047  0.163933  0.006689  \n",
              "43823  0.479397  0.435548  0.526522  0.257356  0.420452  0.171032  0.005346  \n",
              "43824  0.485053  0.525653  0.599975  0.534771  0.410706  0.164029  0.003959  \n",
              "43825  0.479368  0.385532  0.649861  0.287182  0.413988  0.164121  0.000334  \n",
              "\n",
              "[43826 rows x 29 columns]"
            ],
            "text/html": [
              "\n",
              "  <div id=\"df-30700a88-1dde-455d-b7b0-c29279456057\">\n",
              "    <div class=\"colab-df-container\">\n",
              "      <div>\n",
              "<style scoped>\n",
              "    .dataframe tbody tr th:only-of-type {\n",
              "        vertical-align: middle;\n",
              "    }\n",
              "\n",
              "    .dataframe tbody tr th {\n",
              "        vertical-align: top;\n",
              "    }\n",
              "\n",
              "    .dataframe thead th {\n",
              "        text-align: right;\n",
              "    }\n",
              "</style>\n",
              "<table border=\"1\" class=\"dataframe\">\n",
              "  <thead>\n",
              "    <tr style=\"text-align: right;\">\n",
              "      <th></th>\n",
              "      <th>V1</th>\n",
              "      <th>V2</th>\n",
              "      <th>V3</th>\n",
              "      <th>V4</th>\n",
              "      <th>V5</th>\n",
              "      <th>V6</th>\n",
              "      <th>V7</th>\n",
              "      <th>V8</th>\n",
              "      <th>V9</th>\n",
              "      <th>V10</th>\n",
              "      <th>...</th>\n",
              "      <th>V20</th>\n",
              "      <th>V21</th>\n",
              "      <th>V22</th>\n",
              "      <th>V23</th>\n",
              "      <th>V24</th>\n",
              "      <th>V25</th>\n",
              "      <th>V26</th>\n",
              "      <th>V27</th>\n",
              "      <th>V28</th>\n",
              "      <th>Amount</th>\n",
              "    </tr>\n",
              "  </thead>\n",
              "  <tbody>\n",
              "    <tr>\n",
              "      <th>0</th>\n",
              "      <td>0.886677</td>\n",
              "      <td>0.748403</td>\n",
              "      <td>0.829166</td>\n",
              "      <td>0.236486</td>\n",
              "      <td>0.525547</td>\n",
              "      <td>0.627349</td>\n",
              "      <td>0.444705</td>\n",
              "      <td>0.623039</td>\n",
              "      <td>0.443743</td>\n",
              "      <td>0.552574</td>\n",
              "      <td>...</td>\n",
              "      <td>0.539390</td>\n",
              "      <td>0.397353</td>\n",
              "      <td>0.592480</td>\n",
              "      <td>0.478461</td>\n",
              "      <td>0.337659</td>\n",
              "      <td>0.568868</td>\n",
              "      <td>0.538571</td>\n",
              "      <td>0.417393</td>\n",
              "      <td>0.165180</td>\n",
              "      <td>0.001338</td>\n",
              "    </tr>\n",
              "    <tr>\n",
              "      <th>1</th>\n",
              "      <td>0.861331</td>\n",
              "      <td>0.769276</td>\n",
              "      <td>0.823576</td>\n",
              "      <td>0.292100</td>\n",
              "      <td>0.520049</td>\n",
              "      <td>0.614705</td>\n",
              "      <td>0.448617</td>\n",
              "      <td>0.605747</td>\n",
              "      <td>0.459837</td>\n",
              "      <td>0.645032</td>\n",
              "      <td>...</td>\n",
              "      <td>0.585078</td>\n",
              "      <td>0.387069</td>\n",
              "      <td>0.558326</td>\n",
              "      <td>0.478219</td>\n",
              "      <td>0.352858</td>\n",
              "      <td>0.568220</td>\n",
              "      <td>0.401898</td>\n",
              "      <td>0.419001</td>\n",
              "      <td>0.151136</td>\n",
              "      <td>0.000801</td>\n",
              "    </tr>\n",
              "    <tr>\n",
              "      <th>2</th>\n",
              "      <td>0.898811</td>\n",
              "      <td>0.744121</td>\n",
              "      <td>0.838401</td>\n",
              "      <td>0.365143</td>\n",
              "      <td>0.524809</td>\n",
              "      <td>0.616625</td>\n",
              "      <td>0.442928</td>\n",
              "      <td>0.619097</td>\n",
              "      <td>0.364700</td>\n",
              "      <td>0.585313</td>\n",
              "      <td>...</td>\n",
              "      <td>0.557021</td>\n",
              "      <td>0.395153</td>\n",
              "      <td>0.565648</td>\n",
              "      <td>0.484287</td>\n",
              "      <td>0.410461</td>\n",
              "      <td>0.542513</td>\n",
              "      <td>0.274238</td>\n",
              "      <td>0.428821</td>\n",
              "      <td>0.169239</td>\n",
              "      <td>0.002847</td>\n",
              "    </tr>\n",
              "    <tr>\n",
              "      <th>3</th>\n",
              "      <td>0.990986</td>\n",
              "      <td>0.717972</td>\n",
              "      <td>0.723042</td>\n",
              "      <td>0.247875</td>\n",
              "      <td>0.512953</td>\n",
              "      <td>0.610212</td>\n",
              "      <td>0.424850</td>\n",
              "      <td>0.611151</td>\n",
              "      <td>0.442253</td>\n",
              "      <td>0.596220</td>\n",
              "      <td>...</td>\n",
              "      <td>0.547810</td>\n",
              "      <td>0.408704</td>\n",
              "      <td>0.663318</td>\n",
              "      <td>0.484555</td>\n",
              "      <td>0.476076</td>\n",
              "      <td>0.576720</td>\n",
              "      <td>0.351423</td>\n",
              "      <td>0.410698</td>\n",
              "      <td>0.161401</td>\n",
              "      <td>0.004007</td>\n",
              "    </tr>\n",
              "    <tr>\n",
              "      <th>4</th>\n",
              "      <td>0.964351</td>\n",
              "      <td>0.723156</td>\n",
              "      <td>0.760899</td>\n",
              "      <td>0.267570</td>\n",
              "      <td>0.506823</td>\n",
              "      <td>0.590781</td>\n",
              "      <td>0.429645</td>\n",
              "      <td>0.610421</td>\n",
              "      <td>0.362903</td>\n",
              "      <td>0.589587</td>\n",
              "      <td>...</td>\n",
              "      <td>0.553118</td>\n",
              "      <td>0.407389</td>\n",
              "      <td>0.635412</td>\n",
              "      <td>0.481902</td>\n",
              "      <td>0.428046</td>\n",
              "      <td>0.622521</td>\n",
              "      <td>0.330783</td>\n",
              "      <td>0.414374</td>\n",
              "      <td>0.165385</td>\n",
              "      <td>0.006019</td>\n",
              "    </tr>\n",
              "    <tr>\n",
              "      <th>...</th>\n",
              "      <td>...</td>\n",
              "      <td>...</td>\n",
              "      <td>...</td>\n",
              "      <td>...</td>\n",
              "      <td>...</td>\n",
              "      <td>...</td>\n",
              "      <td>...</td>\n",
              "      <td>...</td>\n",
              "      <td>...</td>\n",
              "      <td>...</td>\n",
              "      <td>...</td>\n",
              "      <td>...</td>\n",
              "      <td>...</td>\n",
              "      <td>...</td>\n",
              "      <td>...</td>\n",
              "      <td>...</td>\n",
              "      <td>...</td>\n",
              "      <td>...</td>\n",
              "      <td>...</td>\n",
              "      <td>...</td>\n",
              "      <td>...</td>\n",
              "    </tr>\n",
              "    <tr>\n",
              "      <th>43821</th>\n",
              "      <td>0.967895</td>\n",
              "      <td>0.717052</td>\n",
              "      <td>0.740328</td>\n",
              "      <td>0.197273</td>\n",
              "      <td>0.531780</td>\n",
              "      <td>0.701189</td>\n",
              "      <td>0.416688</td>\n",
              "      <td>0.632173</td>\n",
              "      <td>0.384228</td>\n",
              "      <td>0.594911</td>\n",
              "      <td>...</td>\n",
              "      <td>0.555109</td>\n",
              "      <td>0.406479</td>\n",
              "      <td>0.627820</td>\n",
              "      <td>0.476562</td>\n",
              "      <td>0.524620</td>\n",
              "      <td>0.657705</td>\n",
              "      <td>0.345467</td>\n",
              "      <td>0.414857</td>\n",
              "      <td>0.164315</td>\n",
              "      <td>0.004007</td>\n",
              "    </tr>\n",
              "    <tr>\n",
              "      <th>43822</th>\n",
              "      <td>0.960302</td>\n",
              "      <td>0.727253</td>\n",
              "      <td>0.777503</td>\n",
              "      <td>0.272181</td>\n",
              "      <td>0.514673</td>\n",
              "      <td>0.604535</td>\n",
              "      <td>0.436231</td>\n",
              "      <td>0.611355</td>\n",
              "      <td>0.434730</td>\n",
              "      <td>0.553999</td>\n",
              "      <td>...</td>\n",
              "      <td>0.547603</td>\n",
              "      <td>0.400727</td>\n",
              "      <td>0.613531</td>\n",
              "      <td>0.478548</td>\n",
              "      <td>0.416099</td>\n",
              "      <td>0.607079</td>\n",
              "      <td>0.690085</td>\n",
              "      <td>0.408047</td>\n",
              "      <td>0.163933</td>\n",
              "      <td>0.006689</td>\n",
              "    </tr>\n",
              "    <tr>\n",
              "      <th>43823</th>\n",
              "      <td>0.906218</td>\n",
              "      <td>0.754879</td>\n",
              "      <td>0.753826</td>\n",
              "      <td>0.335089</td>\n",
              "      <td>0.538639</td>\n",
              "      <td>0.586636</td>\n",
              "      <td>0.457047</td>\n",
              "      <td>0.610459</td>\n",
              "      <td>0.350931</td>\n",
              "      <td>0.559426</td>\n",
              "      <td>...</td>\n",
              "      <td>0.547938</td>\n",
              "      <td>0.404239</td>\n",
              "      <td>0.611280</td>\n",
              "      <td>0.479397</td>\n",
              "      <td>0.435548</td>\n",
              "      <td>0.526522</td>\n",
              "      <td>0.257356</td>\n",
              "      <td>0.420452</td>\n",
              "      <td>0.171032</td>\n",
              "      <td>0.005346</td>\n",
              "    </tr>\n",
              "    <tr>\n",
              "      <th>43824</th>\n",
              "      <td>0.962559</td>\n",
              "      <td>0.721867</td>\n",
              "      <td>0.748252</td>\n",
              "      <td>0.244810</td>\n",
              "      <td>0.538529</td>\n",
              "      <td>0.705358</td>\n",
              "      <td>0.422157</td>\n",
              "      <td>0.635127</td>\n",
              "      <td>0.442507</td>\n",
              "      <td>0.571022</td>\n",
              "      <td>...</td>\n",
              "      <td>0.550770</td>\n",
              "      <td>0.393585</td>\n",
              "      <td>0.543984</td>\n",
              "      <td>0.485053</td>\n",
              "      <td>0.525653</td>\n",
              "      <td>0.599975</td>\n",
              "      <td>0.534771</td>\n",
              "      <td>0.410706</td>\n",
              "      <td>0.164029</td>\n",
              "      <td>0.003959</td>\n",
              "    </tr>\n",
              "    <tr>\n",
              "      <th>43825</th>\n",
              "      <td>0.962540</td>\n",
              "      <td>0.740129</td>\n",
              "      <td>0.775420</td>\n",
              "      <td>0.347683</td>\n",
              "      <td>0.519648</td>\n",
              "      <td>0.604035</td>\n",
              "      <td>0.439432</td>\n",
              "      <td>0.611758</td>\n",
              "      <td>0.383171</td>\n",
              "      <td>0.585408</td>\n",
              "      <td>...</td>\n",
              "      <td>0.545180</td>\n",
              "      <td>0.401583</td>\n",
              "      <td>0.603311</td>\n",
              "      <td>0.479368</td>\n",
              "      <td>0.385532</td>\n",
              "      <td>0.649861</td>\n",
              "      <td>0.287182</td>\n",
              "      <td>0.413988</td>\n",
              "      <td>0.164121</td>\n",
              "      <td>0.000334</td>\n",
              "    </tr>\n",
              "  </tbody>\n",
              "</table>\n",
              "<p>43826 rows × 29 columns</p>\n",
              "</div>\n",
              "      <button class=\"colab-df-convert\" onclick=\"convertToInteractive('df-30700a88-1dde-455d-b7b0-c29279456057')\"\n",
              "              title=\"Convert this dataframe to an interactive table.\"\n",
              "              style=\"display:none;\">\n",
              "        \n",
              "  <svg xmlns=\"http://www.w3.org/2000/svg\" height=\"24px\"viewBox=\"0 0 24 24\"\n",
              "       width=\"24px\">\n",
              "    <path d=\"M0 0h24v24H0V0z\" fill=\"none\"/>\n",
              "    <path d=\"M18.56 5.44l.94 2.06.94-2.06 2.06-.94-2.06-.94-.94-2.06-.94 2.06-2.06.94zm-11 1L8.5 8.5l.94-2.06 2.06-.94-2.06-.94L8.5 2.5l-.94 2.06-2.06.94zm10 10l.94 2.06.94-2.06 2.06-.94-2.06-.94-.94-2.06-.94 2.06-2.06.94z\"/><path d=\"M17.41 7.96l-1.37-1.37c-.4-.4-.92-.59-1.43-.59-.52 0-1.04.2-1.43.59L10.3 9.45l-7.72 7.72c-.78.78-.78 2.05 0 2.83L4 21.41c.39.39.9.59 1.41.59.51 0 1.02-.2 1.41-.59l7.78-7.78 2.81-2.81c.8-.78.8-2.07 0-2.86zM5.41 20L4 18.59l7.72-7.72 1.47 1.35L5.41 20z\"/>\n",
              "  </svg>\n",
              "      </button>\n",
              "      \n",
              "  <style>\n",
              "    .colab-df-container {\n",
              "      display:flex;\n",
              "      flex-wrap:wrap;\n",
              "      gap: 12px;\n",
              "    }\n",
              "\n",
              "    .colab-df-convert {\n",
              "      background-color: #E8F0FE;\n",
              "      border: none;\n",
              "      border-radius: 50%;\n",
              "      cursor: pointer;\n",
              "      display: none;\n",
              "      fill: #1967D2;\n",
              "      height: 32px;\n",
              "      padding: 0 0 0 0;\n",
              "      width: 32px;\n",
              "    }\n",
              "\n",
              "    .colab-df-convert:hover {\n",
              "      background-color: #E2EBFA;\n",
              "      box-shadow: 0px 1px 2px rgba(60, 64, 67, 0.3), 0px 1px 3px 1px rgba(60, 64, 67, 0.15);\n",
              "      fill: #174EA6;\n",
              "    }\n",
              "\n",
              "    [theme=dark] .colab-df-convert {\n",
              "      background-color: #3B4455;\n",
              "      fill: #D2E3FC;\n",
              "    }\n",
              "\n",
              "    [theme=dark] .colab-df-convert:hover {\n",
              "      background-color: #434B5C;\n",
              "      box-shadow: 0px 1px 3px 1px rgba(0, 0, 0, 0.15);\n",
              "      filter: drop-shadow(0px 1px 2px rgba(0, 0, 0, 0.3));\n",
              "      fill: #FFFFFF;\n",
              "    }\n",
              "  </style>\n",
              "\n",
              "      <script>\n",
              "        const buttonEl =\n",
              "          document.querySelector('#df-30700a88-1dde-455d-b7b0-c29279456057 button.colab-df-convert');\n",
              "        buttonEl.style.display =\n",
              "          google.colab.kernel.accessAllowed ? 'block' : 'none';\n",
              "\n",
              "        async function convertToInteractive(key) {\n",
              "          const element = document.querySelector('#df-30700a88-1dde-455d-b7b0-c29279456057');\n",
              "          const dataTable =\n",
              "            await google.colab.kernel.invokeFunction('convertToInteractive',\n",
              "                                                     [key], {});\n",
              "          if (!dataTable) return;\n",
              "\n",
              "          const docLinkHtml = 'Like what you see? Visit the ' +\n",
              "            '<a target=\"_blank\" href=https://colab.research.google.com/notebooks/data_table.ipynb>data table notebook</a>'\n",
              "            + ' to learn more about interactive tables.';\n",
              "          element.innerHTML = '';\n",
              "          dataTable['output_type'] = 'display_data';\n",
              "          await google.colab.output.renderOutput(dataTable, element);\n",
              "          const docLink = document.createElement('div');\n",
              "          docLink.innerHTML = docLinkHtml;\n",
              "          element.appendChild(docLink);\n",
              "        }\n",
              "      </script>\n",
              "    </div>\n",
              "  </div>\n",
              "  "
            ]
          },
          "metadata": {},
          "execution_count": 11
        }
      ]
    },
    {
      "cell_type": "markdown",
      "source": [
        "Passa o dataset para um formato que possa ser usado em k-folds"
      ],
      "metadata": {
        "id": "lAsVCtK3laUE"
      }
    },
    {
      "cell_type": "code",
      "source": [
        "x_train=normalized_data_train.iloc[:,0:].values\n",
        "x_test=normalized_data_test.iloc[:,0:].values"
      ],
      "metadata": {
        "id": "NovcP0UwEtoR"
      },
      "execution_count": 12,
      "outputs": []
    },
    {
      "cell_type": "markdown",
      "source": [
        "**Treinamento**"
      ],
      "metadata": {
        "id": "5_jP6relo8Ki"
      }
    },
    {
      "cell_type": "markdown",
      "source": [
        "**KNN**"
      ],
      "metadata": {
        "id": "zJU0urL5Lbpx"
      }
    },
    {
      "cell_type": "markdown",
      "source": [
        "Define que serão feitos 5 splits no k-fold com os valores 1,3,5,10 e 20 de n_neighbors."
      ],
      "metadata": {
        "id": "ufPbPt8vl06-"
      }
    },
    {
      "cell_type": "code",
      "source": [
        "kf = KFold(n_splits=5)\n",
        "kVals = [1,3,5,10,20]\n",
        "media = []"
      ],
      "metadata": {
        "id": "6--ZDXuPCUoQ"
      },
      "execution_count": 15,
      "outputs": []
    },
    {
      "cell_type": "markdown",
      "source": [
        "Aplica k-folds no treinamento de knn e calcula a média dos splits para cada n_neighbors"
      ],
      "metadata": {
        "id": "5IusE36LmS2D"
      }
    },
    {
      "cell_type": "code",
      "source": [
        "for k in kVals:\n",
        "  model = KNeighborsClassifier(n_neighbors=k, metric='euclidean')\n",
        "  soma = 0\n",
        "  for i, (train_index, val_index) in enumerate(kf.split(x_train, y_train)):\n",
        "    model.fit(x_train[train_index], y_train[train_index])\n",
        "    score = model.score(x_train[val_index], y_train[val_index])\n",
        "    print(\"k=%d, accuracy=%.2f%%\" % (k, score * 100))\n",
        "    soma += (score *100)\n",
        "  print(\"k=%d, media=%.2f%%\" % (k, (soma/5)))\n",
        "  media.append((soma/5))"
      ],
      "metadata": {
        "colab": {
          "base_uri": "https://localhost:8080/"
        },
        "id": "LJAoYkHzCakn",
        "outputId": "a3fd55fb-28fc-4af7-8db7-13a0f0ba73c5"
      },
      "execution_count": 16,
      "outputs": [
        {
          "output_type": "stream",
          "name": "stdout",
          "text": [
            "k=1, accuracy=99.61%\n",
            "k=1, accuracy=99.65%\n",
            "k=1, accuracy=99.68%\n",
            "k=1, accuracy=99.69%\n",
            "k=1, accuracy=99.64%\n",
            "k=1, media=99.65%\n",
            "k=3, accuracy=99.75%\n",
            "k=3, accuracy=99.77%\n",
            "k=3, accuracy=99.81%\n",
            "k=3, accuracy=99.80%\n",
            "k=3, accuracy=99.77%\n",
            "k=3, media=99.78%\n",
            "k=5, accuracy=99.75%\n",
            "k=5, accuracy=99.77%\n",
            "k=5, accuracy=99.82%\n",
            "k=5, accuracy=99.81%\n",
            "k=5, accuracy=99.78%\n",
            "k=5, media=99.78%\n",
            "k=10, accuracy=99.75%\n",
            "k=10, accuracy=99.77%\n",
            "k=10, accuracy=99.82%\n",
            "k=10, accuracy=99.81%\n",
            "k=10, accuracy=99.78%\n",
            "k=10, media=99.78%\n",
            "k=20, accuracy=99.75%\n",
            "k=20, accuracy=99.77%\n",
            "k=20, accuracy=99.82%\n",
            "k=20, accuracy=99.81%\n",
            "k=20, accuracy=99.78%\n",
            "k=20, media=99.78%\n"
          ]
        }
      ]
    },
    {
      "cell_type": "markdown",
      "source": [
        "**Análise dos resultados**"
      ],
      "metadata": {
        "id": "9L4jn_nupA8M"
      }
    },
    {
      "cell_type": "code",
      "source": [
        "media"
      ],
      "metadata": {
        "colab": {
          "base_uri": "https://localhost:8080/"
        },
        "id": "gRfsOMeuCU9U",
        "outputId": "21288b8c-3995-42b0-c9f4-c4d18b2a7b1a"
      },
      "execution_count": 17,
      "outputs": [
        {
          "output_type": "execute_result",
          "data": {
            "text/plain": [
              "[99.65488342190605,\n",
              " 99.78152118970941,\n",
              " 99.78494386110506,\n",
              " 99.78494386110506,\n",
              " 99.78494386110506]"
            ]
          },
          "metadata": {},
          "execution_count": 17
        }
      ]
    },
    {
      "cell_type": "markdown",
      "source": [
        "Gráfico das médias de acc do knn"
      ],
      "metadata": {
        "id": "L-G0csFDDp6E"
      }
    },
    {
      "cell_type": "code",
      "source": [
        "plt.plot(kVals, media)"
      ],
      "metadata": {
        "colab": {
          "base_uri": "https://localhost:8080/",
          "height": 447
        },
        "id": "qC-9Jv5npCcY",
        "outputId": "6cbbd927-1e3a-40b4-d84c-ddf24a02ee06"
      },
      "execution_count": 18,
      "outputs": [
        {
          "output_type": "execute_result",
          "data": {
            "text/plain": [
              "[<matplotlib.lines.Line2D at 0x7fc58ff1ece0>]"
            ]
          },
          "metadata": {},
          "execution_count": 18
        },
        {
          "output_type": "display_data",
          "data": {
            "text/plain": [
              "<Figure size 640x480 with 1 Axes>"
            ],
            "image/png": "[encoded data removed]"
          },
          "metadata": {}
        }
      ]
    },
    {
      "cell_type": "markdown",
      "source": [
        "Treina o modelo com o conjunto inteiro de treinamento com o melhor valor de n_neighbors"
      ],
      "metadata": {
        "id": "lFfORLNYmknJ"
      }
    },
    {
      "cell_type": "code",
      "source": [
        "model = KNeighborsClassifier(n_neighbors=5, metric='euclidean')\n",
        "model.fit(x_train, y_train)"
      ],
      "metadata": {
        "colab": {
          "base_uri": "https://localhost:8080/",
          "height": 75
        },
        "id": "BqNcbZObJWEm",
        "outputId": "2aec3bcf-cfb8-47df-8a62-8e518f6e8736"
      },
      "execution_count": 19,
      "outputs": [
        {
          "output_type": "execute_result",
          "data": {
            "text/plain": [
              "KNeighborsClassifier(metric='euclidean')"
            ],
            "text/html": [
              "<style>#sk-container-id-1 {color: black;background-color: white;}#sk-container-id-1 pre{padding: 0;}#sk-container-id-1 div.sk-toggleable {background-color: white;}#sk-container-id-1 label.sk-toggleable__label {cursor: pointer;display: block;width: 100%;margin-bottom: 0;padding: 0.3em;box-sizing: border-box;text-align: center;}#sk-container-id-1 label.sk-toggleable__label-arrow:before {content: \"▸\";float: left;margin-right: 0.25em;color: #696969;}#sk-container-id-1 label.sk-toggleable__label-arrow:hover:before {color: black;}#sk-container-id-1 div.sk-estimator:hover label.sk-toggleable__label-arrow:before {color: black;}#sk-container-id-1 div.sk-toggleable__content {max-height: 0;max-width: 0;overflow: hidden;text-align: left;background-color: #f0f8ff;}#sk-container-id-1 div.sk-toggleable__content pre {margin: 0.2em;color: black;border-radius: 0.25em;background-color: #f0f8ff;}#sk-container-id-1 input.sk-toggleable__control:checked~div.sk-toggleable__content {max-height: 200px;max-width: 100%;overflow: auto;}#sk-container-id-1 input.sk-toggleable__control:checked~label.sk-toggleable__label-arrow:before {content: \"▾\";}#sk-container-id-1 div.sk-estimator input.sk-toggleable__control:checked~label.sk-toggleable__label {background-color: #d4ebff;}#sk-container-id-1 div.sk-label input.sk-toggleable__control:checked~label.sk-toggleable__label {background-color: #d4ebff;}#sk-container-id-1 input.sk-hidden--visually {border: 0;clip: rect(1px 1px 1px 1px);clip: rect(1px, 1px, 1px, 1px);height: 1px;margin: -1px;overflow: hidden;padding: 0;position: absolute;width: 1px;}#sk-container-id-1 div.sk-estimator {font-family: monospace;background-color: #f0f8ff;border: 1px dotted black;border-radius: 0.25em;box-sizing: border-box;margin-bottom: 0.5em;}#sk-container-id-1 div.sk-estimator:hover {background-color: #d4ebff;}#sk-container-id-1 div.sk-parallel-item::after {content: \"\";width: 100%;border-bottom: 1px solid gray;flex-grow: 1;}#sk-container-id-1 div.sk-label:hover label.sk-toggleable__label {background-color: #d4ebff;}#sk-container-id-1 div.sk-serial::before {content: \"\";position: absolute;border-left: 1px solid gray;box-sizing: border-box;top: 0;bottom: 0;left: 50%;z-index: 0;}#sk-container-id-1 div.sk-serial {display: flex;flex-direction: column;align-items: center;background-color: white;padding-right: 0.2em;padding-left: 0.2em;position: relative;}#sk-container-id-1 div.sk-item {position: relative;z-index: 1;}#sk-container-id-1 div.sk-parallel {display: flex;align-items: stretch;justify-content: center;background-color: white;position: relative;}#sk-container-id-1 div.sk-item::before, #sk-container-id-1 div.sk-parallel-item::before {content: \"\";position: absolute;border-left: 1px solid gray;box-sizing: border-box;top: 0;bottom: 0;left: 50%;z-index: -1;}#sk-container-id-1 div.sk-parallel-item {display: flex;flex-direction: column;z-index: 1;position: relative;background-color: white;}#sk-container-id-1 div.sk-parallel-item:first-child::after {align-self: flex-end;width: 50%;}#sk-container-id-1 div.sk-parallel-item:last-child::after {align-self: flex-start;width: 50%;}#sk-container-id-1 div.sk-parallel-item:only-child::after {width: 0;}#sk-container-id-1 div.sk-dashed-wrapped {border: 1px dashed gray;margin: 0 0.4em 0.5em 0.4em;box-sizing: border-box;padding-bottom: 0.4em;background-color: white;}#sk-container-id-1 div.sk-label label {font-family: monospace;font-weight: bold;display: inline-block;line-height: 1.2em;}#sk-container-id-1 div.sk-label-container {text-align: center;}#sk-container-id-1 div.sk-container {/* jupyter's `normalize.less` sets `[hidden] { display: none; }` but bootstrap.min.css set `[hidden] { display: none !important; }` so we also need the `!important` here to be able to override the default hidden behavior on the sphinx rendered scikit-learn.org. See: https://github.com/scikit-learn/scikit-learn/issues/21755 */display: inline-block !important;position: relative;}#sk-container-id-1 div.sk-text-repr-fallback {display: none;}</style><div id=\"sk-container-id-1\" class=\"sk-top-container\"><div class=\"sk-text-repr-fallback\"><pre>KNeighborsClassifier(metric=&#x27;euclidean&#x27;)</pre><b>In a Jupyter environment, please rerun this cell to show the HTML representation or trust the notebook. <br />On GitHub, the HTML representation is unable to render, please try loading this page with nbviewer.org.</b></div><div class=\"sk-container\" hidden><div class=\"sk-item\"><div class=\"sk-estimator sk-toggleable\"><input class=\"sk-toggleable__control sk-hidden--visually\" id=\"sk-estimator-id-1\" type=\"checkbox\" checked><label for=\"sk-estimator-id-1\" class=\"sk-toggleable__label sk-toggleable__label-arrow\">KNeighborsClassifier</label><div class=\"sk-toggleable__content\"><pre>KNeighborsClassifier(metric=&#x27;euclidean&#x27;)</pre></div></div></div></div></div>"
            ]
          },
          "metadata": {},
          "execution_count": 19
        }
      ]
    },
    {
      "cell_type": "markdown",
      "source": [
        "Cálcula a acc do modelo. 99.79%, porém o dataset está muito desbalanceado então esta acc está muito tendenciosa para a label 0"
      ],
      "metadata": {
        "id": "oYse86UkmvM3"
      }
    },
    {
      "cell_type": "code",
      "source": [
        "score = model.score(x_test, y_test)\n",
        "print(\"accuracy=%.2f%%\" % (score * 100))"
      ],
      "metadata": {
        "colab": {
          "base_uri": "https://localhost:8080/"
        },
        "id": "Bo4YbvzYJV7J",
        "outputId": "12b301c2-e073-4c61-92bc-11cfaa0ae6be"
      },
      "execution_count": 20,
      "outputs": [
        {
          "output_type": "stream",
          "name": "stdout",
          "text": [
            "accuracy=99.79%\n"
          ]
        }
      ]
    },
    {
      "cell_type": "markdown",
      "source": [
        "Gera a matriz de confusão do modelo. Percebe-se que apenas uma fraude foi realmente classificada como fraude."
      ],
      "metadata": {
        "id": "ZqPoUtemnIQt"
      }
    },
    {
      "cell_type": "code",
      "source": [
        "y_pred = model.predict(x_test)\n",
        "cm = confusion_matrix(y_test, y_pred, labels=[0, 1])\n",
        "plt.figure(figsize=(8, 6))\n",
        "sns.heatmap(cm, annot=True, cmap='Blues', fmt='g', xticklabels=['0', '1'], yticklabels=['0', '1'])\n",
        "plt.xlabel('Predicted')\n",
        "plt.ylabel('True')\n",
        "plt.show()"
      ],
      "metadata": {
        "colab": {
          "base_uri": "https://localhost:8080/",
          "height": 542
        },
        "id": "4dqX2ln1KFM3",
        "outputId": "27d9e7ad-4569-45e4-e017-dffdb850ce1e"
      },
      "execution_count": 21,
      "outputs": [
        {
          "output_type": "display_data",
          "data": {
            "text/plain": [
              "<Figure size 800x600 with 2 Axes>"
            ],
            "image/png": "[encoded data removed]"
          },
          "metadata": {}
        }
      ]
    },
    {
      "cell_type": "markdown",
      "source": [
        "Calcula a curva ROC do modelo. O modelo tem péssimo desempenho em distinguir de instâncias falsas e verdadeiras, já que a AUC, que indica a área de cima da curva, é igual a 0.52."
      ],
      "metadata": {
        "id": "Qjm-p7ZMrqxc"
      }
    },
    {
      "cell_type": "code",
      "source": [
        "probs = model.predict_proba(x_test)[:, 1]\n",
        "fpr, tpr, thresholds = roc_curve(y_test, probs)\n",
        "a = roc_auc_score(y_test, probs)\n",
        "\n",
        "plt.plot(fpr, tpr, label='Curva ROC (AUC = {:.2f})'.format(a))\n",
        "plt.plot([0, 1], [0, 1], 'k--')\n",
        "plt.xlabel('Taxa FPR')\n",
        "plt.ylabel('Taxa TPR')\n",
        "plt.title('Curva ROC')\n",
        "plt.legend()\n",
        "plt.show()"
      ],
      "metadata": {
        "colab": {
          "base_uri": "https://localhost:8080/",
          "height": 472
        },
        "id": "72Aj6fxXLMMO",
        "outputId": "71f5bbbb-4c11-4d1a-9d2d-2bb49f38ecf0"
      },
      "execution_count": 22,
      "outputs": [
        {
          "output_type": "display_data",
          "data": {
            "text/plain": [
              "<Figure size 640x480 with 1 Axes>"
            ],
            "image/png": "[encoded data removed]"
          },
          "metadata": {}
        }
      ]
    },
    {
      "cell_type": "markdown",
      "source": [
        "A AUCPR mede o desempenho do modelo em termos da capacidade de prever corretamente exemplos positivos, levando em consideração a precisão. Muito usada em problemas com dados desiquilibrados. Quando mais próxima de 1, melhor será o modelo, o que indica que o modelo treinado não é o ideal.\n",
        "\n",
        "∑ₙ(ΔR)Pₙ"
      ],
      "metadata": {
        "id": "mZ5zs2I5s9CG"
      }
    },
    {
      "cell_type": "markdown",
      "source": [
        "Calcula a precisão, o recall e o F1 do modelo. Aqui percebe-se que a capacidade do classificador de classificar a classe 1 como classe é muito baixa, já que todos os valores deram 0."
      ],
      "metadata": {
        "id": "KyMVMUIYBWxR"
      }
    },
    {
      "cell_type": "code",
      "source": [
        "precision = precision_score(y_test, y_pred)\n",
        "recall = recall_score(y_test, y_pred)\n",
        "f1 = f1_score(y_test, y_pred)\n",
        "\n",
        "print(\"Precisão: {:.2f}\".format(precision))\n",
        "print(\"Recall: {:.2f}\".format(recall))\n",
        "print(\"F1: {:.2f}\".format(f1))\n",
        "\n",
        "\n",
        "precision, recall, _ = precision_recall_curve(y_test, y_pred)\n",
        "\n",
        "auc_pr = auc(recall, precision)\n",
        "\n",
        "print(\"AUC-PR: {:.2f}\".format(auc_pr))"
      ],
      "metadata": {
        "colab": {
          "base_uri": "https://localhost:8080/"
        },
        "id": "b0drn0uwsXFj",
        "outputId": "f07f0762-64c2-42a8-bd34-602a4305aa85"
      },
      "execution_count": 23,
      "outputs": [
        {
          "output_type": "stream",
          "name": "stdout",
          "text": [
            "Precisão: 0.00\n",
            "Recall: 0.00\n",
            "F1: 0.00\n",
            "AUC-PR: 0.00\n"
          ]
        }
      ]
    },
    {
      "cell_type": "markdown",
      "source": [
        "**Undersampling e Oversampling**"
      ],
      "metadata": {
        "id": "XnTUUYNbKcgr"
      }
    },
    {
      "cell_type": "markdown",
      "source": [
        "Mostra a distribuição de dados para cara classe no conjunto de teste"
      ],
      "metadata": {
        "id": "kxrcmLo4LMaa"
      }
    },
    {
      "cell_type": "code",
      "source": [
        "frequency = Counter(y_train)\n",
        "for value, count in frequency.items():\n",
        "    print(f\"{value} : {count} \")"
      ],
      "metadata": {
        "colab": {
          "base_uri": "https://localhost:8080/"
        },
        "id": "NzaSMYWQFnYu",
        "outputId": "e2c788e1-f269-45f7-ebf3-7a29f2c9a2e3"
      },
      "execution_count": 35,
      "outputs": [
        {
          "output_type": "stream",
          "name": "stdout",
          "text": [
            "0 : 174926 \n",
            "1 : 377 \n"
          ]
        }
      ]
    },
    {
      "cell_type": "markdown",
      "source": [
        "Faz um pequeno undersampling no conjunto de treino"
      ],
      "metadata": {
        "id": "RMJWz7fea3Wx"
      }
    },
    {
      "cell_type": "code",
      "source": [
        "undersample = RandomUnderSampler(sampling_strategy=0.0022174)"
      ],
      "metadata": {
        "id": "WoB-u7TsEqP3"
      },
      "execution_count": 174,
      "outputs": []
    },
    {
      "cell_type": "code",
      "source": [
        "x_under, y_under = undersample.fit_resample(x_train, y_train)\n",
        "frequency = Counter(y_under)\n",
        "for value, count in frequency.items():\n",
        "    print(f\"{value} : {count} \")"
      ],
      "metadata": {
        "colab": {
          "base_uri": "https://localhost:8080/"
        },
        "id": "N9fZN_-7Hoe0",
        "outputId": "4643586c-cc3c-413d-ac14-2525a48298ba"
      },
      "execution_count": 175,
      "outputs": [
        {
          "output_type": "stream",
          "name": "stdout",
          "text": [
            "0 : 170018 \n",
            "1 : 377 \n"
          ]
        }
      ]
    },
    {
      "cell_type": "markdown",
      "source": [
        "Faz um Oversampling nos dados"
      ],
      "metadata": {
        "id": "eic3xPAda_ux"
      }
    },
    {
      "cell_type": "code",
      "source": [
        "sm = SMOTE(random_state=0)\n",
        "x_resampled, y_resampled = sm.fit_resample(x_under, y_under)\n",
        "frequency = Counter(y_resampled)\n",
        "for value, count in frequency.items():\n",
        "    print(f\"{value} : {count} \")"
      ],
      "metadata": {
        "colab": {
          "base_uri": "https://localhost:8080/"
        },
        "id": "DFrVL6xKJVIx",
        "outputId": "9d64c9b6-be29-4f00-f544-042412d3f878"
      },
      "execution_count": 176,
      "outputs": [
        {
          "output_type": "stream",
          "name": "stdout",
          "text": [
            "0 : 170018 \n",
            "1 : 170018 \n"
          ]
        }
      ]
    },
    {
      "cell_type": "markdown",
      "source": [
        "Treina um modelo de perceptron"
      ],
      "metadata": {
        "id": "7CEAVkrrbbpK"
      }
    },
    {
      "cell_type": "code",
      "source": [
        "percep = Perceptron(tol=1e-3, random_state=0)"
      ],
      "metadata": {
        "id": "Pc1xuWewbC0A"
      },
      "execution_count": 201,
      "outputs": []
    },
    {
      "cell_type": "code",
      "source": [
        "percep.fit(x_resampled, y_resampled)"
      ],
      "metadata": {
        "colab": {
          "base_uri": "https://localhost:8080/",
          "height": 75
        },
        "id": "QpQg-KQLH1Vy",
        "outputId": "1d952ff6-fefd-4348-83c8-7694783b5319"
      },
      "execution_count": 202,
      "outputs": [
        {
          "output_type": "execute_result",
          "data": {
            "text/plain": [
              "Perceptron()"
            ],
            "text/html": [
              "<style>#sk-container-id-25 {color: black;background-color: white;}#sk-container-id-25 pre{padding: 0;}#sk-container-id-25 div.sk-toggleable {background-color: white;}#sk-container-id-25 label.sk-toggleable__label {cursor: pointer;display: block;width: 100%;margin-bottom: 0;padding: 0.3em;box-sizing: border-box;text-align: center;}#sk-container-id-25 label.sk-toggleable__label-arrow:before {content: \"▸\";float: left;margin-right: 0.25em;color: #696969;}#sk-container-id-25 label.sk-toggleable__label-arrow:hover:before {color: black;}#sk-container-id-25 div.sk-estimator:hover label.sk-toggleable__label-arrow:before {color: black;}#sk-container-id-25 div.sk-toggleable__content {max-height: 0;max-width: 0;overflow: hidden;text-align: left;background-color: #f0f8ff;}#sk-container-id-25 div.sk-toggleable__content pre {margin: 0.2em;color: black;border-radius: 0.25em;background-color: #f0f8ff;}#sk-container-id-25 input.sk-toggleable__control:checked~div.sk-toggleable__content {max-height: 200px;max-width: 100%;overflow: auto;}#sk-container-id-25 input.sk-toggleable__control:checked~label.sk-toggleable__label-arrow:before {content: \"▾\";}#sk-container-id-25 div.sk-estimator input.sk-toggleable__control:checked~label.sk-toggleable__label {background-color: #d4ebff;}#sk-container-id-25 div.sk-label input.sk-toggleable__control:checked~label.sk-toggleable__label {background-color: #d4ebff;}#sk-container-id-25 input.sk-hidden--visually {border: 0;clip: rect(1px 1px 1px 1px);clip: rect(1px, 1px, 1px, 1px);height: 1px;margin: -1px;overflow: hidden;padding: 0;position: absolute;width: 1px;}#sk-container-id-25 div.sk-estimator {font-family: monospace;background-color: #f0f8ff;border: 1px dotted black;border-radius: 0.25em;box-sizing: border-box;margin-bottom: 0.5em;}#sk-container-id-25 div.sk-estimator:hover {background-color: #d4ebff;}#sk-container-id-25 div.sk-parallel-item::after {content: \"\";width: 100%;border-bottom: 1px solid gray;flex-grow: 1;}#sk-container-id-25 div.sk-label:hover label.sk-toggleable__label {background-color: #d4ebff;}#sk-container-id-25 div.sk-serial::before {content: \"\";position: absolute;border-left: 1px solid gray;box-sizing: border-box;top: 0;bottom: 0;left: 50%;z-index: 0;}#sk-container-id-25 div.sk-serial {display: flex;flex-direction: column;align-items: center;background-color: white;padding-right: 0.2em;padding-left: 0.2em;position: relative;}#sk-container-id-25 div.sk-item {position: relative;z-index: 1;}#sk-container-id-25 div.sk-parallel {display: flex;align-items: stretch;justify-content: center;background-color: white;position: relative;}#sk-container-id-25 div.sk-item::before, #sk-container-id-25 div.sk-parallel-item::before {content: \"\";position: absolute;border-left: 1px solid gray;box-sizing: border-box;top: 0;bottom: 0;left: 50%;z-index: -1;}#sk-container-id-25 div.sk-parallel-item {display: flex;flex-direction: column;z-index: 1;position: relative;background-color: white;}#sk-container-id-25 div.sk-parallel-item:first-child::after {align-self: flex-end;width: 50%;}#sk-container-id-25 div.sk-parallel-item:last-child::after {align-self: flex-start;width: 50%;}#sk-container-id-25 div.sk-parallel-item:only-child::after {width: 0;}#sk-container-id-25 div.sk-dashed-wrapped {border: 1px dashed gray;margin: 0 0.4em 0.5em 0.4em;box-sizing: border-box;padding-bottom: 0.4em;background-color: white;}#sk-container-id-25 div.sk-label label {font-family: monospace;font-weight: bold;display: inline-block;line-height: 1.2em;}#sk-container-id-25 div.sk-label-container {text-align: center;}#sk-container-id-25 div.sk-container {/* jupyter's `normalize.less` sets `[hidden] { display: none; }` but bootstrap.min.css set `[hidden] { display: none !important; }` so we also need the `!important` here to be able to override the default hidden behavior on the sphinx rendered scikit-learn.org. See: https://github.com/scikit-learn/scikit-learn/issues/21755 */display: inline-block !important;position: relative;}#sk-container-id-25 div.sk-text-repr-fallback {display: none;}</style><div id=\"sk-container-id-25\" class=\"sk-top-container\"><div class=\"sk-text-repr-fallback\"><pre>Perceptron()</pre><b>In a Jupyter environment, please rerun this cell to show the HTML representation or trust the notebook. <br />On GitHub, the HTML representation is unable to render, please try loading this page with nbviewer.org.</b></div><div class=\"sk-container\" hidden><div class=\"sk-item\"><div class=\"sk-estimator sk-toggleable\"><input class=\"sk-toggleable__control sk-hidden--visually\" id=\"sk-estimator-id-25\" type=\"checkbox\" checked><label for=\"sk-estimator-id-25\" class=\"sk-toggleable__label sk-toggleable__label-arrow\">Perceptron</label><div class=\"sk-toggleable__content\"><pre>Perceptron()</pre></div></div></div></div></div>"
            ]
          },
          "metadata": {},
          "execution_count": 202
        }
      ]
    },
    {
      "cell_type": "markdown",
      "source": [
        "Faz a predição e mede a acc do modelo"
      ],
      "metadata": {
        "id": "Em67rTPWbfDa"
      }
    },
    {
      "cell_type": "code",
      "source": [
        "y_pred = percep.predict(x_test)"
      ],
      "metadata": {
        "id": "27da899jH9wq"
      },
      "execution_count": 203,
      "outputs": []
    },
    {
      "cell_type": "code",
      "source": [
        "accuracy = accuracy_score(y_test, y_pred)\n",
        "print(\"accuracy=%.2f%%\" % (accuracy * 100))"
      ],
      "metadata": {
        "colab": {
          "base_uri": "https://localhost:8080/"
        },
        "id": "4MzOFTqoIB9o",
        "outputId": "688aa430-81e4-4864-a84a-480027ff781b"
      },
      "execution_count": 204,
      "outputs": [
        {
          "output_type": "stream",
          "name": "stdout",
          "text": [
            "accuracy=98.69%\n"
          ]
        }
      ]
    },
    {
      "cell_type": "markdown",
      "source": [
        "Plota a matriz de confusão, percebe-se uma melhora, já que mais amostras foram classificadas com fraude"
      ],
      "metadata": {
        "id": "Zls3j71ubjcG"
      }
    },
    {
      "cell_type": "code",
      "source": [
        "y_pred = percep.predict(x_test)\n",
        "cm = confusion_matrix(y_test, y_pred, labels=[0, 1])\n",
        "plt.figure(figsize=(8, 6))\n",
        "sns.heatmap(cm, annot=True, cmap='Blues', fmt='g', xticklabels=['0', '1'], yticklabels=['0', '1'])\n",
        "plt.xlabel('Predicted')\n",
        "plt.ylabel('True')\n",
        "plt.show()"
      ],
      "metadata": {
        "colab": {
          "base_uri": "https://localhost:8080/",
          "height": 542
        },
        "id": "2RWPepreIHYs",
        "outputId": "f2f1ae1d-8776-4d49-8670-840a548a625f"
      },
      "execution_count": 205,
      "outputs": [
        {
          "output_type": "display_data",
          "data": {
            "text/plain": [
              "<Figure size 800x600 with 2 Axes>"
            ],
            "image/png": "[encoded data removed]"
          },
          "metadata": {}
        }
      ]
    },
    {
      "cell_type": "markdown",
      "source": [
        "Plota a curva ROC, com 0.76 de AUC"
      ],
      "metadata": {
        "id": "A4lcw71zbw99"
      }
    },
    {
      "cell_type": "code",
      "source": [
        "probs = percep.decision_function(x_test)\n",
        "fpr, tpr, thresholds = roc_curve(y_test, probs)\n",
        "a = roc_auc_score(y_test, probs)\n",
        "\n",
        "plt.plot(fpr, tpr, label='Curva ROC (AUC = {:.2f})'.format(a))\n",
        "plt.plot([0, 1], [0, 1], 'k--')\n",
        "plt.xlabel('Taxa FPR')\n",
        "plt.ylabel('Taxa TPR')\n",
        "plt.title('Curva ROC')\n",
        "plt.legend()\n",
        "plt.show()"
      ],
      "metadata": {
        "colab": {
          "base_uri": "https://localhost:8080/",
          "height": 472
        },
        "id": "nR8arQNALUdx",
        "outputId": "ac7d26eb-570e-46cb-9a32-9dba6254c5a4"
      },
      "execution_count": 206,
      "outputs": [
        {
          "output_type": "display_data",
          "data": {
            "text/plain": [
              "<Figure size 640x480 with 1 Axes>"
            ],
            "image/png": "[encoded data removed]"
          },
          "metadata": {}
        }
      ]
    },
    {
      "cell_type": "markdown",
      "source": [
        "As outras métricas melhoraram."
      ],
      "metadata": {
        "id": "HF98rzaxb29-"
      }
    },
    {
      "cell_type": "code",
      "source": [
        "precision = precision_score(y_test, y_pred)\n",
        "recall = recall_score(y_test, y_pred)\n",
        "f1 = f1_score(y_test, y_pred)\n",
        "\n",
        "print(\"Precisão: {:.2f}\".format(precision))\n",
        "print(\"Recall: {:.2f}\".format(recall))\n",
        "print(\"F1: {:.2f}\".format(f1))\n",
        "\n",
        "precision, recall, _ = precision_recall_curve(y_test, y_pred)\n",
        "auc_pr = auc(recall, precision)\n",
        "\n",
        "print(\"AUC-PR: {:.2f}\".format(auc_pr))"
      ],
      "metadata": {
        "colab": {
          "base_uri": "https://localhost:8080/"
        },
        "id": "baNOdi0DLWRO",
        "outputId": "1f7877dd-48a9-49b9-ddbe-bb1293451e69"
      },
      "execution_count": 207,
      "outputs": [
        {
          "output_type": "stream",
          "name": "stdout",
          "text": [
            "Precisão: 0.05\n",
            "Recall: 0.28\n",
            "F1: 0.08\n",
            "AUC-PR: 0.17\n"
          ]
        }
      ]
    },
    {
      "cell_type": "markdown",
      "source": [
        "Treina um modelo de KNN só para ver como fica o comportamento agora"
      ],
      "metadata": {
        "id": "stQiVLG-b8Xp"
      }
    },
    {
      "cell_type": "code",
      "source": [
        "model = KNeighborsClassifier(n_neighbors=5, metric='euclidean')\n",
        "model.fit(x_resampled, y_resampled)"
      ],
      "metadata": {
        "colab": {
          "base_uri": "https://localhost:8080/",
          "height": 75
        },
        "outputId": "14e4ffa4-68a9-47f5-a6fb-7580e7f8f1bb",
        "id": "WwF-3OoaLyil"
      },
      "execution_count": 183,
      "outputs": [
        {
          "output_type": "execute_result",
          "data": {
            "text/plain": [
              "KNeighborsClassifier(metric='euclidean')"
            ],
            "text/html": [
              "<style>#sk-container-id-24 {color: black;background-color: white;}#sk-container-id-24 pre{padding: 0;}#sk-container-id-24 div.sk-toggleable {background-color: white;}#sk-container-id-24 label.sk-toggleable__label {cursor: pointer;display: block;width: 100%;margin-bottom: 0;padding: 0.3em;box-sizing: border-box;text-align: center;}#sk-container-id-24 label.sk-toggleable__label-arrow:before {content: \"▸\";float: left;margin-right: 0.25em;color: #696969;}#sk-container-id-24 label.sk-toggleable__label-arrow:hover:before {color: black;}#sk-container-id-24 div.sk-estimator:hover label.sk-toggleable__label-arrow:before {color: black;}#sk-container-id-24 div.sk-toggleable__content {max-height: 0;max-width: 0;overflow: hidden;text-align: left;background-color: #f0f8ff;}#sk-container-id-24 div.sk-toggleable__content pre {margin: 0.2em;color: black;border-radius: 0.25em;background-color: #f0f8ff;}#sk-container-id-24 input.sk-toggleable__control:checked~div.sk-toggleable__content {max-height: 200px;max-width: 100%;overflow: auto;}#sk-container-id-24 input.sk-toggleable__control:checked~label.sk-toggleable__label-arrow:before {content: \"▾\";}#sk-container-id-24 div.sk-estimator input.sk-toggleable__control:checked~label.sk-toggleable__label {background-color: #d4ebff;}#sk-container-id-24 div.sk-label input.sk-toggleable__control:checked~label.sk-toggleable__label {background-color: #d4ebff;}#sk-container-id-24 input.sk-hidden--visually {border: 0;clip: rect(1px 1px 1px 1px);clip: rect(1px, 1px, 1px, 1px);height: 1px;margin: -1px;overflow: hidden;padding: 0;position: absolute;width: 1px;}#sk-container-id-24 div.sk-estimator {font-family: monospace;background-color: #f0f8ff;border: 1px dotted black;border-radius: 0.25em;box-sizing: border-box;margin-bottom: 0.5em;}#sk-container-id-24 div.sk-estimator:hover {background-color: #d4ebff;}#sk-container-id-24 div.sk-parallel-item::after {content: \"\";width: 100%;border-bottom: 1px solid gray;flex-grow: 1;}#sk-container-id-24 div.sk-label:hover label.sk-toggleable__label {background-color: #d4ebff;}#sk-container-id-24 div.sk-serial::before {content: \"\";position: absolute;border-left: 1px solid gray;box-sizing: border-box;top: 0;bottom: 0;left: 50%;z-index: 0;}#sk-container-id-24 div.sk-serial {display: flex;flex-direction: column;align-items: center;background-color: white;padding-right: 0.2em;padding-left: 0.2em;position: relative;}#sk-container-id-24 div.sk-item {position: relative;z-index: 1;}#sk-container-id-24 div.sk-parallel {display: flex;align-items: stretch;justify-content: center;background-color: white;position: relative;}#sk-container-id-24 div.sk-item::before, #sk-container-id-24 div.sk-parallel-item::before {content: \"\";position: absolute;border-left: 1px solid gray;box-sizing: border-box;top: 0;bottom: 0;left: 50%;z-index: -1;}#sk-container-id-24 div.sk-parallel-item {display: flex;flex-direction: column;z-index: 1;position: relative;background-color: white;}#sk-container-id-24 div.sk-parallel-item:first-child::after {align-self: flex-end;width: 50%;}#sk-container-id-24 div.sk-parallel-item:last-child::after {align-self: flex-start;width: 50%;}#sk-container-id-24 div.sk-parallel-item:only-child::after {width: 0;}#sk-container-id-24 div.sk-dashed-wrapped {border: 1px dashed gray;margin: 0 0.4em 0.5em 0.4em;box-sizing: border-box;padding-bottom: 0.4em;background-color: white;}#sk-container-id-24 div.sk-label label {font-family: monospace;font-weight: bold;display: inline-block;line-height: 1.2em;}#sk-container-id-24 div.sk-label-container {text-align: center;}#sk-container-id-24 div.sk-container {/* jupyter's `normalize.less` sets `[hidden] { display: none; }` but bootstrap.min.css set `[hidden] { display: none !important; }` so we also need the `!important` here to be able to override the default hidden behavior on the sphinx rendered scikit-learn.org. See: https://github.com/scikit-learn/scikit-learn/issues/21755 */display: inline-block !important;position: relative;}#sk-container-id-24 div.sk-text-repr-fallback {display: none;}</style><div id=\"sk-container-id-24\" class=\"sk-top-container\"><div class=\"sk-text-repr-fallback\"><pre>KNeighborsClassifier(metric=&#x27;euclidean&#x27;)</pre><b>In a Jupyter environment, please rerun this cell to show the HTML representation or trust the notebook. <br />On GitHub, the HTML representation is unable to render, please try loading this page with nbviewer.org.</b></div><div class=\"sk-container\" hidden><div class=\"sk-item\"><div class=\"sk-estimator sk-toggleable\"><input class=\"sk-toggleable__control sk-hidden--visually\" id=\"sk-estimator-id-24\" type=\"checkbox\" checked><label for=\"sk-estimator-id-24\" class=\"sk-toggleable__label sk-toggleable__label-arrow\">KNeighborsClassifier</label><div class=\"sk-toggleable__content\"><pre>KNeighborsClassifier(metric=&#x27;euclidean&#x27;)</pre></div></div></div></div></div>"
            ]
          },
          "metadata": {},
          "execution_count": 183
        }
      ]
    },
    {
      "cell_type": "markdown",
      "source": [
        "A acc diminuiu"
      ],
      "metadata": {
        "id": "xlZ-ppjqcCck"
      }
    },
    {
      "cell_type": "code",
      "source": [
        "score = model.score(x_test, y_test)\n",
        "print(\"accuracy=%.2f%%\" % (score * 100))"
      ],
      "metadata": {
        "colab": {
          "base_uri": "https://localhost:8080/"
        },
        "outputId": "d2da1f0a-a713-4db2-c38c-80443543f4e0",
        "id": "Lo4x1DdBLyim"
      },
      "execution_count": 184,
      "outputs": [
        {
          "output_type": "stream",
          "name": "stdout",
          "text": [
            "accuracy=97.85%\n"
          ]
        }
      ]
    },
    {
      "cell_type": "markdown",
      "source": [
        "Comparado ao modelo passado de knn, houve uma melhora na classificação de fraudes"
      ],
      "metadata": {
        "id": "_uvMbRQbcFZO"
      }
    },
    {
      "cell_type": "code",
      "source": [
        "y_pred = model.predict(x_test)\n",
        "cm = confusion_matrix(y_test, y_pred, labels=[0, 1])\n",
        "plt.figure(figsize=(8, 6))\n",
        "sns.heatmap(cm, annot=True, cmap='Blues', fmt='g', xticklabels=['0', '1'], yticklabels=['0', '1'])\n",
        "plt.xlabel('Predicted')\n",
        "plt.ylabel('True')\n",
        "plt.show()"
      ],
      "metadata": {
        "colab": {
          "base_uri": "https://localhost:8080/",
          "height": 542
        },
        "id": "0W2rUT58M0i5",
        "outputId": "26595c3a-b8f8-4450-b892-d16e081a8015"
      },
      "execution_count": 185,
      "outputs": [
        {
          "output_type": "display_data",
          "data": {
            "text/plain": [
              "<Figure size 800x600 with 2 Axes>"
            ],
            "image/png": "[encoded data removed]"
          },
          "metadata": {}
        }
      ]
    },
    {
      "cell_type": "markdown",
      "source": [
        "A AUC aumentou"
      ],
      "metadata": {
        "id": "U7vzHNc5cOeN"
      }
    },
    {
      "cell_type": "code",
      "source": [
        "probs = model.predict_proba(x_test)[:, 1]\n",
        "fpr, tpr, thresholds = roc_curve(y_test, probs)\n",
        "a = roc_auc_score(y_test, probs)\n",
        "\n",
        "plt.plot(fpr, tpr, label='Curva ROC (AUC = {:.2f})'.format(a))\n",
        "plt.plot([0, 1], [0, 1], 'k--')\n",
        "plt.xlabel('Taxa FPR')\n",
        "plt.ylabel('Taxa TPR')\n",
        "plt.title('Curva ROC')\n",
        "plt.legend()\n",
        "plt.show()"
      ],
      "metadata": {
        "colab": {
          "base_uri": "https://localhost:8080/",
          "height": 472
        },
        "id": "KqnqvFstNuwY",
        "outputId": "b3be1a7d-e1c8-40b5-d327-ef6e7b1cc50c"
      },
      "execution_count": 186,
      "outputs": [
        {
          "output_type": "display_data",
          "data": {
            "text/plain": [
              "<Figure size 640x480 with 1 Axes>"
            ],
            "image/png": "[encoded data removed]"
          },
          "metadata": {}
        }
      ]
    },
    {
      "cell_type": "markdown",
      "source": [
        "As outras métricas melhoraram"
      ],
      "metadata": {
        "id": "VcowZYWfcRNg"
      }
    },
    {
      "cell_type": "code",
      "source": [
        "precision = precision_score(y_test, y_pred)\n",
        "recall = recall_score(y_test, y_pred)\n",
        "f1 = f1_score(y_test, y_pred)\n",
        "\n",
        "print(\"Precisão: {:.2f}\".format(precision))\n",
        "print(\"Recall: {:.2f}\".format(recall))\n",
        "print(\"F1: {:.2f}\".format(f1))\n",
        "\n",
        "\n",
        "precision, recall, _ = precision_recall_curve(y_test, y_pred)\n",
        "\n",
        "auc_pr = auc(recall, precision)\n",
        "\n",
        "print(\"AUC-PR: {:.2f}\".format(auc_pr))"
      ],
      "metadata": {
        "colab": {
          "base_uri": "https://localhost:8080/"
        },
        "id": "5fcTbvKqOOoV",
        "outputId": "7628d211-42a5-41ec-a21f-3a7c07ddf7ee"
      },
      "execution_count": 187,
      "outputs": [
        {
          "output_type": "stream",
          "name": "stdout",
          "text": [
            "Precisão: 0.01\n",
            "Recall: 0.12\n",
            "F1: 0.02\n",
            "AUC-PR: 0.07\n"
          ]
        }
      ]
    },
    {
      "cell_type": "markdown",
      "source": [
        "O trabalho irá seguir tentando melhorar as métricas de desempenho AUC e AUCPR. Para isso, serão utilizados outros modelos de classificação, árvore de decisão e FNN (Feedforward Neural Networks)."
      ],
      "metadata": {
        "id": "Z6Xj03EzZrgM"
      }
    }
  ]
}