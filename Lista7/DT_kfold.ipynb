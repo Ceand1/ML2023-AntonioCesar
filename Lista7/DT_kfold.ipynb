{
  "cells": [
    {
      "attachments": {},
      "cell_type": "markdown",
      "metadata": {},
      "source": [
        "Carrega as bibliotecas e pacotes necessários"
      ]
    },
    {
      "cell_type": "code",
      "execution_count": 1,
      "metadata": {
        "id": "lHgbJN48UhdL"
      },
      "outputs": [],
      "source": [
        "from sklearn.tree import DecisionTreeClassifier\n",
        "from sklearn import tree\n",
        "from sklearn.model_selection import train_test_split\n",
        "from sklearn.metrics import accuracy_score, classification_report, confusion_matrix\n",
        "import pandas as pd\n",
        "from sklearn.datasets import load_breast_cancer\n",
        "import numpy as np\n",
        "from sklearn.model_selection import KFold"
      ]
    },
    {
      "attachments": {},
      "cell_type": "markdown",
      "metadata": {},
      "source": [
        "Carrega as amostras"
      ]
    },
    {
      "cell_type": "code",
      "execution_count": 2,
      "metadata": {
        "colab": {
          "base_uri": "https://localhost:8080/"
        },
        "id": "UFWq6ljFVqtO",
        "outputId": "0f20ae30-b31e-452e-b000-516dd7ccd621"
      },
      "outputs": [
        {
          "data": {
            "text/plain": [
              "array([[1.799e+01, 1.038e+01, 1.228e+02, ..., 2.654e-01, 4.601e-01,\n",
              "        1.189e-01],\n",
              "       [2.057e+01, 1.777e+01, 1.329e+02, ..., 1.860e-01, 2.750e-01,\n",
              "        8.902e-02],\n",
              "       [1.969e+01, 2.125e+01, 1.300e+02, ..., 2.430e-01, 3.613e-01,\n",
              "        8.758e-02],\n",
              "       ...,\n",
              "       [1.660e+01, 2.808e+01, 1.083e+02, ..., 1.418e-01, 2.218e-01,\n",
              "        7.820e-02],\n",
              "       [2.060e+01, 2.933e+01, 1.401e+02, ..., 2.650e-01, 4.087e-01,\n",
              "        1.240e-01],\n",
              "       [7.760e+00, 2.454e+01, 4.792e+01, ..., 0.000e+00, 2.871e-01,\n",
              "        7.039e-02]])"
            ]
          },
          "execution_count": 2,
          "metadata": {},
          "output_type": "execute_result"
        }
      ],
      "source": [
        "x = load_breast_cancer().data\n",
        "x"
      ]
    },
    {
      "attachments": {},
      "cell_type": "markdown",
      "metadata": {},
      "source": [
        "Carrega as features"
      ]
    },
    {
      "cell_type": "code",
      "execution_count": 3,
      "metadata": {
        "colab": {
          "base_uri": "https://localhost:8080/"
        },
        "id": "kVVz3Yi2WBWv",
        "outputId": "b6e7bf95-dc8c-4492-f9a5-d0bd7939a0e5"
      },
      "outputs": [
        {
          "data": {
            "text/plain": [
              "array([0, 0, 0, 0, 0, 0, 0, 0, 0, 0, 0, 0, 0, 0, 0, 0, 0, 0, 0, 1, 1, 1,\n",
              "       0, 0, 0, 0, 0, 0, 0, 0, 0, 0, 0, 0, 0, 0, 0, 1, 0, 0, 0, 0, 0, 0,\n",
              "       0, 0, 1, 0, 1, 1, 1, 1, 1, 0, 0, 1, 0, 0, 1, 1, 1, 1, 0, 1, 0, 0,\n",
              "       1, 1, 1, 1, 0, 1, 0, 0, 1, 0, 1, 0, 0, 1, 1, 1, 0, 0, 1, 0, 0, 0,\n",
              "       1, 1, 1, 0, 1, 1, 0, 0, 1, 1, 1, 0, 0, 1, 1, 1, 1, 0, 1, 1, 0, 1,\n",
              "       1, 1, 1, 1, 1, 1, 1, 0, 0, 0, 1, 0, 0, 1, 1, 1, 0, 0, 1, 0, 1, 0,\n",
              "       0, 1, 0, 0, 1, 1, 0, 1, 1, 0, 1, 1, 1, 1, 0, 1, 1, 1, 1, 1, 1, 1,\n",
              "       1, 1, 0, 1, 1, 1, 1, 0, 0, 1, 0, 1, 1, 0, 0, 1, 1, 0, 0, 1, 1, 1,\n",
              "       1, 0, 1, 1, 0, 0, 0, 1, 0, 1, 0, 1, 1, 1, 0, 1, 1, 0, 0, 1, 0, 0,\n",
              "       0, 0, 1, 0, 0, 0, 1, 0, 1, 0, 1, 1, 0, 1, 0, 0, 0, 0, 1, 1, 0, 0,\n",
              "       1, 1, 1, 0, 1, 1, 1, 1, 1, 0, 0, 1, 1, 0, 1, 1, 0, 0, 1, 0, 1, 1,\n",
              "       1, 1, 0, 1, 1, 1, 1, 1, 0, 1, 0, 0, 0, 0, 0, 0, 0, 0, 0, 0, 0, 0,\n",
              "       0, 0, 1, 1, 1, 1, 1, 1, 0, 1, 0, 1, 1, 0, 1, 1, 0, 1, 0, 0, 1, 1,\n",
              "       1, 1, 1, 1, 1, 1, 1, 1, 1, 1, 1, 0, 1, 1, 0, 1, 0, 1, 1, 1, 1, 1,\n",
              "       1, 1, 1, 1, 1, 1, 1, 1, 1, 0, 1, 1, 1, 0, 1, 0, 1, 1, 1, 1, 0, 0,\n",
              "       0, 1, 1, 1, 1, 0, 1, 0, 1, 0, 1, 1, 1, 0, 1, 1, 1, 1, 1, 1, 1, 0,\n",
              "       0, 0, 1, 1, 1, 1, 1, 1, 1, 1, 1, 1, 1, 0, 0, 1, 0, 0, 0, 1, 0, 0,\n",
              "       1, 1, 1, 1, 1, 0, 1, 1, 1, 1, 1, 0, 1, 1, 1, 0, 1, 1, 0, 0, 1, 1,\n",
              "       1, 1, 1, 1, 0, 1, 1, 1, 1, 1, 1, 1, 0, 1, 1, 1, 1, 1, 0, 1, 1, 0,\n",
              "       1, 1, 1, 1, 1, 1, 1, 1, 1, 1, 1, 1, 0, 1, 0, 0, 1, 0, 1, 1, 1, 1,\n",
              "       1, 0, 1, 1, 0, 1, 0, 1, 1, 0, 1, 0, 1, 1, 1, 1, 1, 1, 1, 1, 0, 0,\n",
              "       1, 1, 1, 1, 1, 1, 0, 1, 1, 1, 1, 1, 1, 1, 1, 1, 1, 0, 1, 1, 1, 1,\n",
              "       1, 1, 1, 0, 1, 0, 1, 1, 0, 1, 1, 1, 1, 1, 0, 0, 1, 0, 1, 0, 1, 1,\n",
              "       1, 1, 1, 0, 1, 1, 0, 1, 0, 1, 0, 0, 1, 1, 1, 0, 1, 1, 1, 1, 1, 1,\n",
              "       1, 1, 1, 1, 1, 0, 1, 0, 0, 1, 1, 1, 1, 1, 1, 1, 1, 1, 1, 1, 1, 1,\n",
              "       1, 1, 1, 1, 1, 1, 1, 1, 1, 1, 1, 1, 0, 0, 0, 0, 0, 0, 1])"
            ]
          },
          "execution_count": 3,
          "metadata": {},
          "output_type": "execute_result"
        }
      ],
      "source": [
        "y = load_breast_cancer().target\n",
        "y"
      ]
    },
    {
      "attachments": {},
      "cell_type": "markdown",
      "metadata": {},
      "source": [
        "Divide o conjunto de dados em 80% para treinamento e 20% para teste"
      ]
    },
    {
      "cell_type": "code",
      "execution_count": 4,
      "metadata": {
        "id": "1BK9BOkSWCW2"
      },
      "outputs": [],
      "source": [
        "x_train,x_test,y_train,y_test=train_test_split(x, y,\n",
        "test_size=0.2, random_state=84, stratify=y)\n"
      ]
    },
    {
      "attachments": {},
      "cell_type": "markdown",
      "metadata": {},
      "source": [
        "Define os hiperparâmetros que serão usados da validação"
      ]
    },
    {
      "cell_type": "code",
      "execution_count": 5,
      "metadata": {
        "id": "Cj-3J-bCWHZb"
      },
      "outputs": [],
      "source": [
        "kf = KFold(n_splits=5)\n",
        "max_death = [10,20,30,40,50,60,70,80,90,100]\n",
        "criterion = [\"gini\", \"entropy\", \"log_loss\"]\n",
        "media = []"
      ]
    },
    {
      "attachments": {},
      "cell_type": "markdown",
      "metadata": {},
      "source": [
        "Faz a validação e retorna a média das acc para cada fold"
      ]
    },
    {
      "cell_type": "code",
      "execution_count": 18,
      "metadata": {
        "colab": {
          "base_uri": "https://localhost:8080/"
        },
        "id": "mCFOm3uLeZoV",
        "outputId": "f3aa57c3-6936-40c3-d66f-ba5741744052"
      },
      "outputs": [
        {
          "name": "stdout",
          "output_type": "stream",
          "text": [
            "max_death=10, accuracy=92.09%\n",
            "max_death=20, accuracy=92.89%\n",
            "max_death=30, accuracy=92.60%\n",
            "max_death=40, accuracy=92.60%\n",
            "max_death=50, accuracy=92.97%\n",
            "max_death=60, accuracy=92.16%\n",
            "max_death=70, accuracy=93.04%\n",
            "max_death=80, accuracy=92.97%\n",
            "max_death=90, accuracy=92.75%\n",
            "max_death=100, accuracy=92.45%\n"
          ]
        }
      ],
      "source": [
        "for k in max_death:\n",
        "  soma = 0\n",
        "  for c in criterion:\n",
        "    dt = DecisionTreeClassifier(criterion=c,max_depth=k)\n",
        "    for i, (train_index, val_index) in enumerate(kf.split(x_train)):\n",
        "      dt.fit(x_train[train_index], y_train[train_index])\n",
        "      score = dt.score(x_train[val_index], y_train[val_index])\n",
        "      #print(\"max_death=%d, criterion=%s, accuracy=%.2f%%\" % (k, c ,score * 100))\n",
        "      soma += (score *100)\n",
        "  print(\"max_death=%d, accuracy=%.2f%%\" % (k, (soma/15)))\n",
        "    #media.append((soma/5))"
      ]
    },
    {
      "cell_type": "code",
      "execution_count": 19,
      "metadata": {
        "colab": {
          "base_uri": "https://localhost:8080/"
        },
        "id": "yYW8k41_Y5Qc",
        "outputId": "f6b1641a-b687-4ce5-e326-ae92fc889076"
      },
      "outputs": [
        {
          "name": "stdout",
          "output_type": "stream",
          "text": [
            "max_death=10, criterion=gini, accuracy=92.09%\n",
            "max_death=10, criterion=entropy, accuracy=92.75%\n",
            "max_death=10, criterion=log_loss, accuracy=92.09%\n",
            "max_death=20, criterion=gini, accuracy=92.31%\n",
            "max_death=20, criterion=entropy, accuracy=92.97%\n",
            "max_death=20, criterion=log_loss, accuracy=92.97%\n",
            "max_death=30, criterion=gini, accuracy=91.21%\n",
            "max_death=30, criterion=entropy, accuracy=92.75%\n",
            "max_death=30, criterion=log_loss, accuracy=92.53%\n",
            "max_death=40, criterion=gini, accuracy=92.09%\n",
            "max_death=40, criterion=entropy, accuracy=92.53%\n",
            "max_death=40, criterion=log_loss, accuracy=92.75%\n",
            "max_death=50, criterion=gini, accuracy=93.19%\n",
            "max_death=50, criterion=entropy, accuracy=93.19%\n",
            "max_death=50, criterion=log_loss, accuracy=92.75%\n",
            "max_death=60, criterion=gini, accuracy=90.33%\n",
            "max_death=60, criterion=entropy, accuracy=92.97%\n",
            "max_death=60, criterion=log_loss, accuracy=93.63%\n",
            "max_death=70, criterion=gini, accuracy=91.65%\n",
            "max_death=70, criterion=entropy, accuracy=92.75%\n",
            "max_death=70, criterion=log_loss, accuracy=92.75%\n",
            "max_death=80, criterion=gini, accuracy=91.87%\n",
            "max_death=80, criterion=entropy, accuracy=93.19%\n",
            "max_death=80, criterion=log_loss, accuracy=92.31%\n",
            "max_death=90, criterion=gini, accuracy=92.09%\n",
            "max_death=90, criterion=entropy, accuracy=92.09%\n",
            "max_death=90, criterion=log_loss, accuracy=93.41%\n",
            "max_death=100, criterion=gini, accuracy=92.97%\n",
            "max_death=100, criterion=entropy, accuracy=93.41%\n",
            "max_death=100, criterion=log_loss, accuracy=92.97%\n"
          ]
        }
      ],
      "source": [
        "for k in max_death:\n",
        "  for c in criterion:\n",
        "    dt = DecisionTreeClassifier(criterion=c,max_depth=k)\n",
        "    soma = 0\n",
        "    for i, (train_index, val_index) in enumerate(kf.split(x_train)):\n",
        "      dt.fit(x_train[train_index], y_train[train_index])\n",
        "      score = dt.score(x_train[val_index], y_train[val_index])\n",
        "      #print(\"max_death=%d, criterion=%s, accuracy=%.2f%%\" % (k, c ,score * 100))\n",
        "      soma += (score *100)\n",
        "    print(\"max_death=%d, criterion=%s, accuracy=%.2f%%\" % (k, c, (soma/5)))\n",
        "    #media.append((soma/5))"
      ]
    },
    {
      "attachments": {},
      "cell_type": "markdown",
      "metadata": {},
      "source": [
        "Treina o melhor modelo e testa com o conjunto de teste"
      ]
    },
    {
      "cell_type": "code",
      "execution_count": 20,
      "metadata": {
        "id": "N8U5l0uMf6xm"
      },
      "outputs": [],
      "source": [
        "dt = DecisionTreeClassifier(criterion=\"log_loss\",max_depth=60)\n",
        "dt.fit(x_train, y_train)\n",
        "score = dt.score(x_test, y_test)"
      ]
    },
    {
      "cell_type": "code",
      "execution_count": 21,
      "metadata": {
        "colab": {
          "base_uri": "https://localhost:8080/"
        },
        "id": "3Iwr2eZqgR-M",
        "outputId": "6065ba14-0724-4a4f-d3e5-4f105fa88b37"
      },
      "outputs": [
        {
          "data": {
            "text/plain": [
              "0.9736842105263158"
            ]
          },
          "execution_count": 21,
          "metadata": {},
          "output_type": "execute_result"
        }
      ],
      "source": [
        "score"
      ]
    }
  ],
  "metadata": {
    "colab": {
      "provenance": []
    },
    "kernelspec": {
      "display_name": "Python 3",
      "name": "python3"
    },
    "language_info": {
      "name": "python"
    }
  },
  "nbformat": 4,
  "nbformat_minor": 0
}
