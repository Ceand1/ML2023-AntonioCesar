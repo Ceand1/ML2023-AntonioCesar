{
  "cells": [
    {
      "attachments": {},
      "cell_type": "markdown",
      "metadata": {},
      "source": [
        "Carrega as bibliotecas e pacotes necessários e carrega as amostras"
      ]
    },
    {
      "cell_type": "code",
      "execution_count": 1,
      "metadata": {
        "colab": {
          "base_uri": "https://localhost:8080/"
        },
        "id": "huRKl8wi-LiD",
        "outputId": "9fff5031-1403-4142-96ca-2bf6b6dcb4ac"
      },
      "outputs": [
        {
          "data": {
            "text/plain": [
              "array([[1.799e+01, 1.038e+01, 1.228e+02, ..., 2.654e-01, 4.601e-01,\n",
              "        1.189e-01],\n",
              "       [2.057e+01, 1.777e+01, 1.329e+02, ..., 1.860e-01, 2.750e-01,\n",
              "        8.902e-02],\n",
              "       [1.969e+01, 2.125e+01, 1.300e+02, ..., 2.430e-01, 3.613e-01,\n",
              "        8.758e-02],\n",
              "       ...,\n",
              "       [1.660e+01, 2.808e+01, 1.083e+02, ..., 1.418e-01, 2.218e-01,\n",
              "        7.820e-02],\n",
              "       [2.060e+01, 2.933e+01, 1.401e+02, ..., 2.650e-01, 4.087e-01,\n",
              "        1.240e-01],\n",
              "       [7.760e+00, 2.454e+01, 4.792e+01, ..., 0.000e+00, 2.871e-01,\n",
              "        7.039e-02]])"
            ]
          },
          "execution_count": 1,
          "metadata": {},
          "output_type": "execute_result"
        }
      ],
      "source": [
        "from sklearn.datasets import load_breast_cancer\n",
        "from sklearn.model_selection import train_test_split\n",
        "from sklearn.neighbors import KNeighborsClassifier\n",
        "from sklearn.model_selection import KFold\n",
        "import numpy as np\n",
        "\n",
        "\n",
        "x = load_breast_cancer().data\n",
        "x"
      ]
    },
    {
      "cell_type": "code",
      "execution_count": 2,
      "metadata": {
        "colab": {
          "base_uri": "https://localhost:8080/"
        },
        "id": "MHIu9UMC-OCc",
        "outputId": "c3a75aee-7aae-44c7-9c93-bbe543f4e4e0"
      },
      "outputs": [
        {
          "data": {
            "text/plain": [
              "array([0, 0, 0, 0, 0, 0, 0, 0, 0, 0, 0, 0, 0, 0, 0, 0, 0, 0, 0, 1, 1, 1,\n",
              "       0, 0, 0, 0, 0, 0, 0, 0, 0, 0, 0, 0, 0, 0, 0, 1, 0, 0, 0, 0, 0, 0,\n",
              "       0, 0, 1, 0, 1, 1, 1, 1, 1, 0, 0, 1, 0, 0, 1, 1, 1, 1, 0, 1, 0, 0,\n",
              "       1, 1, 1, 1, 0, 1, 0, 0, 1, 0, 1, 0, 0, 1, 1, 1, 0, 0, 1, 0, 0, 0,\n",
              "       1, 1, 1, 0, 1, 1, 0, 0, 1, 1, 1, 0, 0, 1, 1, 1, 1, 0, 1, 1, 0, 1,\n",
              "       1, 1, 1, 1, 1, 1, 1, 0, 0, 0, 1, 0, 0, 1, 1, 1, 0, 0, 1, 0, 1, 0,\n",
              "       0, 1, 0, 0, 1, 1, 0, 1, 1, 0, 1, 1, 1, 1, 0, 1, 1, 1, 1, 1, 1, 1,\n",
              "       1, 1, 0, 1, 1, 1, 1, 0, 0, 1, 0, 1, 1, 0, 0, 1, 1, 0, 0, 1, 1, 1,\n",
              "       1, 0, 1, 1, 0, 0, 0, 1, 0, 1, 0, 1, 1, 1, 0, 1, 1, 0, 0, 1, 0, 0,\n",
              "       0, 0, 1, 0, 0, 0, 1, 0, 1, 0, 1, 1, 0, 1, 0, 0, 0, 0, 1, 1, 0, 0,\n",
              "       1, 1, 1, 0, 1, 1, 1, 1, 1, 0, 0, 1, 1, 0, 1, 1, 0, 0, 1, 0, 1, 1,\n",
              "       1, 1, 0, 1, 1, 1, 1, 1, 0, 1, 0, 0, 0, 0, 0, 0, 0, 0, 0, 0, 0, 0,\n",
              "       0, 0, 1, 1, 1, 1, 1, 1, 0, 1, 0, 1, 1, 0, 1, 1, 0, 1, 0, 0, 1, 1,\n",
              "       1, 1, 1, 1, 1, 1, 1, 1, 1, 1, 1, 0, 1, 1, 0, 1, 0, 1, 1, 1, 1, 1,\n",
              "       1, 1, 1, 1, 1, 1, 1, 1, 1, 0, 1, 1, 1, 0, 1, 0, 1, 1, 1, 1, 0, 0,\n",
              "       0, 1, 1, 1, 1, 0, 1, 0, 1, 0, 1, 1, 1, 0, 1, 1, 1, 1, 1, 1, 1, 0,\n",
              "       0, 0, 1, 1, 1, 1, 1, 1, 1, 1, 1, 1, 1, 0, 0, 1, 0, 0, 0, 1, 0, 0,\n",
              "       1, 1, 1, 1, 1, 0, 1, 1, 1, 1, 1, 0, 1, 1, 1, 0, 1, 1, 0, 0, 1, 1,\n",
              "       1, 1, 1, 1, 0, 1, 1, 1, 1, 1, 1, 1, 0, 1, 1, 1, 1, 1, 0, 1, 1, 0,\n",
              "       1, 1, 1, 1, 1, 1, 1, 1, 1, 1, 1, 1, 0, 1, 0, 0, 1, 0, 1, 1, 1, 1,\n",
              "       1, 0, 1, 1, 0, 1, 0, 1, 1, 0, 1, 0, 1, 1, 1, 1, 1, 1, 1, 1, 0, 0,\n",
              "       1, 1, 1, 1, 1, 1, 0, 1, 1, 1, 1, 1, 1, 1, 1, 1, 1, 0, 1, 1, 1, 1,\n",
              "       1, 1, 1, 0, 1, 0, 1, 1, 0, 1, 1, 1, 1, 1, 0, 0, 1, 0, 1, 0, 1, 1,\n",
              "       1, 1, 1, 0, 1, 1, 0, 1, 0, 1, 0, 0, 1, 1, 1, 0, 1, 1, 1, 1, 1, 1,\n",
              "       1, 1, 1, 1, 1, 0, 1, 0, 0, 1, 1, 1, 1, 1, 1, 1, 1, 1, 1, 1, 1, 1,\n",
              "       1, 1, 1, 1, 1, 1, 1, 1, 1, 1, 1, 1, 0, 0, 0, 0, 0, 0, 1])"
            ]
          },
          "execution_count": 2,
          "metadata": {},
          "output_type": "execute_result"
        }
      ],
      "source": [
        "y = load_breast_cancer().target\n",
        "y"
      ]
    },
    {
      "attachments": {},
      "cell_type": "markdown",
      "metadata": {},
      "source": [
        "Divide o conjunto de dados em 80% para treinamento e 20% para teste"
      ]
    },
    {
      "cell_type": "code",
      "execution_count": 3,
      "metadata": {
        "id": "W2sNElDk-WJW"
      },
      "outputs": [],
      "source": [
        "x_train,x_test,y_train,y_test=train_test_split(x, y,\n",
        "test_size=0.2, random_state=84, stratify=y)\n"
      ]
    },
    {
      "attachments": {},
      "cell_type": "markdown",
      "metadata": {},
      "source": [
        "Define os hiperparâmetros que serão usados da validação"
      ]
    },
    {
      "cell_type": "code",
      "execution_count": 10,
      "metadata": {
        "id": "1-stosDo_dwX"
      },
      "outputs": [],
      "source": [
        "kf = KFold(n_splits=5)\n",
        "kVals = [1,3,5,11,21,31]\n",
        "media = []"
      ]
    },
    {
      "attachments": {},
      "cell_type": "markdown",
      "metadata": {},
      "source": [
        "Faz a validação e retorna a média das acc para cada fold"
      ]
    },
    {
      "cell_type": "code",
      "execution_count": 11,
      "metadata": {
        "colab": {
          "base_uri": "https://localhost:8080/"
        },
        "id": "FSKHYqm8AGsw",
        "outputId": "b1f10241-530c-4a9a-a5f3-04353919b4a8"
      },
      "outputs": [
        {
          "name": "stdout",
          "output_type": "stream",
          "text": [
            "k=1, accuracy=90.11%\n",
            "k=1, accuracy=92.31%\n",
            "k=1, accuracy=91.21%\n",
            "k=1, accuracy=94.51%\n",
            "k=1, accuracy=86.81%\n",
            "k=1, media=90.99%\n",
            "k=3, accuracy=87.91%\n",
            "k=3, accuracy=93.41%\n",
            "k=3, accuracy=91.21%\n",
            "k=3, accuracy=95.60%\n",
            "k=3, accuracy=90.11%\n",
            "k=3, media=91.65%\n",
            "k=5, accuracy=93.41%\n",
            "k=5, accuracy=93.41%\n",
            "k=5, accuracy=92.31%\n",
            "k=5, accuracy=96.70%\n",
            "k=5, accuracy=87.91%\n",
            "k=5, media=92.75%\n",
            "k=11, accuracy=92.31%\n",
            "k=11, accuracy=92.31%\n",
            "k=11, accuracy=91.21%\n",
            "k=11, accuracy=96.70%\n",
            "k=11, accuracy=86.81%\n",
            "k=11, media=91.87%\n",
            "k=21, accuracy=91.21%\n",
            "k=21, accuracy=91.21%\n",
            "k=21, accuracy=90.11%\n",
            "k=21, accuracy=97.80%\n",
            "k=21, accuracy=86.81%\n",
            "k=21, media=91.43%\n",
            "k=31, accuracy=91.21%\n",
            "k=31, accuracy=91.21%\n",
            "k=31, accuracy=90.11%\n",
            "k=31, accuracy=95.60%\n",
            "k=31, accuracy=85.71%\n",
            "k=31, media=90.77%\n"
          ]
        }
      ],
      "source": [
        "for k in kVals:\n",
        "  model = KNeighborsClassifier(n_neighbors=k, metric='euclidean')\n",
        "  soma = 0\n",
        "  for i, (train_index, val_index) in enumerate(kf.split(x_train)):\n",
        "    model.fit(x_train[train_index], y_train[train_index])\n",
        "    score = model.score(x_train[val_index], y_train[val_index])\n",
        "    print(\"k=%d, accuracy=%.2f%%\" % (k, score * 100))\n",
        "    soma += (score *100)\n",
        "  print(\"k=%d, media=%.2f%%\" % (k, (soma/5)))\n",
        "  media.append((soma/5))"
      ]
    },
    {
      "cell_type": "code",
      "execution_count": 15,
      "metadata": {
        "colab": {
          "base_uri": "https://localhost:8080/"
        },
        "id": "FQRFxo6A7U74",
        "outputId": "732cdaa3-26e9-4a24-fc76-c8e4db762fd0"
      },
      "outputs": [
        {
          "data": {
            "text/plain": [
              "[90.98901098901098,\n",
              " 91.64835164835165,\n",
              " 92.74725274725274,\n",
              " 91.86813186813187,\n",
              " 91.42857142857142,\n",
              " 90.76923076923077]"
            ]
          },
          "execution_count": 15,
          "metadata": {},
          "output_type": "execute_result"
        }
      ],
      "source": [
        "media\n"
      ]
    },
    {
      "attachments": {},
      "cell_type": "markdown",
      "metadata": {},
      "source": [
        "Treina o melhor modelo e testa com o conjunto de teste"
      ]
    },
    {
      "cell_type": "code",
      "execution_count": 17,
      "metadata": {
        "id": "ih2PMHsZ-Di7"
      },
      "outputs": [],
      "source": [
        "model = KNeighborsClassifier(n_neighbors=5, metric='euclidean')\n",
        "model.fit(x_train, y_train)\n",
        "score = model.score(x_test, y_test)"
      ]
    },
    {
      "cell_type": "code",
      "execution_count": 18,
      "metadata": {
        "colab": {
          "base_uri": "https://localhost:8080/"
        },
        "id": "9SKhgv83-dqx",
        "outputId": "fe97564b-a2ec-4c5d-859e-4ea91e088ccc"
      },
      "outputs": [
        {
          "data": {
            "text/plain": [
              "0.9385964912280702"
            ]
          },
          "execution_count": 18,
          "metadata": {},
          "output_type": "execute_result"
        }
      ],
      "source": [
        "score"
      ]
    }
  ],
  "metadata": {
    "colab": {
      "provenance": []
    },
    "kernelspec": {
      "display_name": "Python 3",
      "name": "python3"
    },
    "language_info": {
      "name": "python"
    }
  },
  "nbformat": 4,
  "nbformat_minor": 0
}
